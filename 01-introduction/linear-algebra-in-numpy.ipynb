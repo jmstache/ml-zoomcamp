{
 "cells": [
  {
   "cell_type": "markdown",
   "id": "9da62dda",
   "metadata": {},
   "source": [
    "# Linear Algebra"
   ]
  },
  {
   "cell_type": "code",
   "execution_count": 2,
   "id": "e04d3fc7",
   "metadata": {},
   "outputs": [],
   "source": [
    "import numpy as np"
   ]
  },
  {
   "cell_type": "markdown",
   "id": "2d969a6f",
   "metadata": {},
   "source": [
    "### Vector Operations"
   ]
  },
  {
   "cell_type": "code",
   "execution_count": 3,
   "id": "edbb6e3b",
   "metadata": {},
   "outputs": [
    {
     "data": {
      "text/plain": [
       "array([2, 4, 6])"
      ]
     },
     "execution_count": 3,
     "metadata": {},
     "output_type": "execute_result"
    }
   ],
   "source": [
    "# Multiply vector by a scalar\n",
    "a = np.array([1, 2, 3])\n",
    "2 * a"
   ]
  },
  {
   "cell_type": "code",
   "execution_count": 4,
   "id": "91c1d21b",
   "metadata": {},
   "outputs": [
    {
     "data": {
      "text/plain": [
       "array([2, 4, 6])"
      ]
     },
     "execution_count": 4,
     "metadata": {},
     "output_type": "execute_result"
    }
   ],
   "source": [
    "# Add two vectors - elementwise addition\n",
    "a + a"
   ]
  },
  {
   "cell_type": "markdown",
   "id": "d992f9f4",
   "metadata": {},
   "source": [
    "#### Vector-Vector Multiplication - Dot Product"
   ]
  },
  {
   "cell_type": "code",
   "execution_count": 20,
   "id": "0c49fefd",
   "metadata": {},
   "outputs": [
    {
     "data": {
      "text/plain": [
       "np.int64(11)"
      ]
     },
     "execution_count": 20,
     "metadata": {},
     "output_type": "execute_result"
    }
   ],
   "source": [
    "u = np.array([1, 2])\n",
    "v = np.array([3, 4])\n",
    "\n",
    "np.sum(u * v)  # multiply elementwise and sum the results"
   ]
  },
  {
   "cell_type": "code",
   "execution_count": 24,
   "id": "1c179443",
   "metadata": {},
   "outputs": [],
   "source": [
    "def vectorvectormultiplication(u, v):\n",
    "    assert u.shape[0] == v.shape[0]\n",
    "    n = u.shape[0]\n",
    "    result=0\n",
    "\n",
    "    for i in range(n):\n",
    "        result = result + u[i] * v[i]\n",
    "    return result"
   ]
  },
  {
   "cell_type": "code",
   "execution_count": 25,
   "id": "632f152f",
   "metadata": {},
   "outputs": [
    {
     "data": {
      "text/plain": [
       "np.int64(11)"
      ]
     },
     "execution_count": 25,
     "metadata": {},
     "output_type": "execute_result"
    }
   ],
   "source": [
    "vectorvectormultiplication(u, v)"
   ]
  },
  {
   "cell_type": "markdown",
   "id": "90ecc06d",
   "metadata": {},
   "source": [
    "### Matrix-Vector Multiplication - multiply every row vector of M with column vector v"
   ]
  },
  {
   "cell_type": "code",
   "execution_count": 28,
   "id": "93682176",
   "metadata": {},
   "outputs": [
    {
     "data": {
      "text/plain": [
       "array([[ 1,  2,  3,  4],\n",
       "       [ 5,  6,  7,  8],\n",
       "       [ 9, 10, 11, 12]])"
      ]
     },
     "execution_count": 28,
     "metadata": {},
     "output_type": "execute_result"
    }
   ],
   "source": [
    "# create a 3x4 matrix\n",
    "M = np.array([[1, 2, 3, 4],\n",
    "              [5, 6, 7, 8],\n",
    "              [9, 10, 11, 12]]) \n",
    "M"
   ]
  },
  {
   "cell_type": "code",
   "execution_count": 29,
   "id": "c7a4d618",
   "metadata": {},
   "outputs": [],
   "source": [
    "v=np.array([1, 0, 1, 0])"
   ]
  },
  {
   "cell_type": "code",
   "execution_count": 30,
   "id": "029048d0",
   "metadata": {},
   "outputs": [
    {
     "data": {
      "text/plain": [
       "array([ 4, 12, 20])"
      ]
     },
     "execution_count": 30,
     "metadata": {},
     "output_type": "execute_result"
    }
   ],
   "source": [
    "M.dot(v)  # multiply every row vector of M with column vector v"
   ]
  },
  {
   "cell_type": "code",
   "execution_count": 31,
   "id": "b6c66e7e",
   "metadata": {},
   "outputs": [],
   "source": [
    "def matrixvectormultiplication(M, v):\n",
    "    assert M.shape[1] == v.shape[0]\n",
    "    m = M.shape[0]\n",
    "    n = M.shape[1]\n",
    "    result = np.zeros(m)\n",
    "\n",
    "    for i in range(m):\n",
    "        for j in range(n):\n",
    "            result[i] = result[i] + M[i, j] * v[j]\n",
    "    return result"
   ]
  },
  {
   "cell_type": "code",
   "execution_count": 32,
   "id": "a96e34ec",
   "metadata": {},
   "outputs": [
    {
     "data": {
      "text/plain": [
       "array([ 4., 12., 20.])"
      ]
     },
     "execution_count": 32,
     "metadata": {},
     "output_type": "execute_result"
    }
   ],
   "source": [
    "matrixvectormultiplication(M, v)"
   ]
  },
  {
   "cell_type": "markdown",
   "id": "d5544e42",
   "metadata": {},
   "source": [
    "### Matrix-Matrix Multiplaction - multiply each row with each column, return a new matrix"
   ]
  },
  {
   "cell_type": "code",
   "execution_count": 34,
   "id": "d200b2df",
   "metadata": {},
   "outputs": [
    {
     "data": {
      "text/plain": [
       "array([[1, 2],\n",
       "       [3, 4],\n",
       "       [5, 6],\n",
       "       [7, 8]])"
      ]
     },
     "execution_count": 34,
     "metadata": {},
     "output_type": "execute_result"
    }
   ],
   "source": [
    "# create a 4x2 matrix N to multiply with M (3x4)\n",
    "N = np.array([[1, 2],\n",
    "              [3, 4],\n",
    "              [5, 6],\n",
    "              [7, 8]])\n",
    "N"
   ]
  },
  {
   "cell_type": "code",
   "execution_count": 35,
   "id": "5257a8e4",
   "metadata": {},
   "outputs": [
    {
     "data": {
      "text/plain": [
       "array([[ 50,  60],\n",
       "       [114, 140],\n",
       "       [178, 220]])"
      ]
     },
     "execution_count": 35,
     "metadata": {},
     "output_type": "execute_result"
    }
   ],
   "source": [
    "M.dot(N)  # multiply every row vector of M with every column vector of N, return a new matrix"
   ]
  },
  {
   "cell_type": "code",
   "execution_count": 36,
   "id": "3fb6a17c",
   "metadata": {},
   "outputs": [],
   "source": [
    "def matrixmultiplication(M, N):\n",
    "    assert M.shape[1] == N.shape[0]\n",
    "    m = M.shape[0]\n",
    "    n = M.shape[1]\n",
    "    p = N.shape[1]\n",
    "    result = np.zeros((m, p))\n",
    "\n",
    "    for i in range(m):\n",
    "        for j in range(p):\n",
    "            for k in range(n):\n",
    "                result[i, j] = result[i, j] + M[i, k] * N[k, j]\n",
    "    return result"
   ]
  },
  {
   "cell_type": "markdown",
   "id": "271d8e49",
   "metadata": {},
   "source": [
    "### Identity Matrix - Square Matrix with 1 on diagonal \n",
    "Any Matrix U * I = U - The number 1 of matrices"
   ]
  },
  {
   "cell_type": "code",
   "execution_count": 39,
   "id": "55a0a871",
   "metadata": {},
   "outputs": [
    {
     "data": {
      "text/plain": [
       "array([[1., 0., 0.],\n",
       "       [0., 1., 0.],\n",
       "       [0., 0., 1.]])"
      ]
     },
     "execution_count": 39,
     "metadata": {},
     "output_type": "execute_result"
    }
   ],
   "source": [
    "# get identity matrix with dimensions 3x3\n",
    "I = np.eye(3)\n",
    "I"
   ]
  },
  {
   "cell_type": "markdown",
   "id": "2dbc19ce",
   "metadata": {},
   "source": [
    "### Matrix Inverse\n",
    "A^-1 * A = I  \n",
    "a transformed matrix that when multiplied with itself returns I - only works with square matrices"
   ]
  },
  {
   "cell_type": "code",
   "execution_count": 60,
   "id": "567f347a",
   "metadata": {},
   "outputs": [
    {
     "data": {
      "text/plain": [
       "array([[37, 12, 72,  9],\n",
       "       [75,  5, 79, 64],\n",
       "       [16,  1, 76, 71],\n",
       "       [ 6, 25, 50, 20]])"
      ]
     },
     "execution_count": 60,
     "metadata": {},
     "output_type": "execute_result"
    }
   ],
   "source": [
    "# create square matrix V 4x4 and random values\n",
    "np.random.seed(1)\n",
    "V = np.random.randint(low=0,high=100,size=(4,4))\n",
    "V\n"
   ]
  },
  {
   "cell_type": "code",
   "execution_count": 61,
   "id": "18654b51",
   "metadata": {},
   "outputs": [
    {
     "data": {
      "text/plain": [
       "array([[-0.00210166,  0.01776882, -0.01520499, -0.00193677],\n",
       "       [-0.02536976,  0.01340354, -0.02306887,  0.05041953],\n",
       "       [ 0.02204271, -0.01251562,  0.01088551, -0.0085128 ],\n",
       "       [-0.02276408,  0.00920398,  0.0061838 ,  0.00883861]])"
      ]
     },
     "execution_count": 61,
     "metadata": {},
     "output_type": "execute_result"
    }
   ],
   "source": [
    "V_inv = np.linalg.inv(V)  # calculate the inverse of V\n",
    "V_inv"
   ]
  },
  {
   "cell_type": "code",
   "execution_count": 62,
   "id": "eac3998f",
   "metadata": {},
   "outputs": [
    {
     "data": {
      "text/plain": [
       "array([[ 1.00000000e+00, -3.81639165e-17,  9.97465999e-17,\n",
       "        -1.21430643e-17],\n",
       "       [ 0.00000000e+00,  1.00000000e+00,  5.55111512e-17,\n",
       "         1.11022302e-16],\n",
       "       [ 1.97758476e-16, -5.89805982e-17,  1.00000000e+00,\n",
       "        -5.72458747e-17],\n",
       "       [-1.38777878e-17,  1.38777878e-17,  3.81639165e-17,\n",
       "         1.00000000e+00]])"
      ]
     },
     "execution_count": 62,
     "metadata": {},
     "output_type": "execute_result"
    }
   ],
   "source": [
    "V.dot(V_inv)  # should return identity matrix"
   ]
  },
  {
   "cell_type": "code",
   "execution_count": null,
   "id": "1de88dc8",
   "metadata": {},
   "outputs": [],
   "source": []
  }
 ],
 "metadata": {
  "kernelspec": {
   "display_name": "Python 3",
   "language": "python",
   "name": "python3"
  },
  "language_info": {
   "codemirror_mode": {
    "name": "ipython",
    "version": 3
   },
   "file_extension": ".py",
   "mimetype": "text/x-python",
   "name": "python",
   "nbconvert_exporter": "python",
   "pygments_lexer": "ipython3",
   "version": "3.12.3"
  }
 },
 "nbformat": 4,
 "nbformat_minor": 5
}
