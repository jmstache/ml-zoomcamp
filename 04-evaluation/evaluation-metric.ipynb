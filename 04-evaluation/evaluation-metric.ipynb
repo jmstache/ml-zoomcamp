{
 "cells": [
  {
   "cell_type": "markdown",
   "metadata": {
    "_sphinx_cell_id": "acddfb58-ee11-4cfa-a967-f5d67f02fadf"
   },
   "source": [
    "# 4. Evaluation Metrics for Classification\n",
    "In the previous session we trained a model for predicting churn. How do we know if it's good?"
   ]
  },
  {
   "cell_type": "code",
   "execution_count": 1,
   "metadata": {
    "_sphinx_cell_id": "da9d3c66-be41-49c6-adaa-79a575ea4f19"
   },
   "outputs": [],
   "source": [
    "import pandas as pd\n",
    "import numpy as np\n",
    "\n",
    "import matplotlib.pyplot as plt"
   ]
  },
  {
   "cell_type": "code",
   "execution_count": 2,
   "metadata": {
    "_sphinx_cell_id": "84452340-c645-4363-b111-3f78f62baeb2"
   },
   "outputs": [],
   "source": [
    "from sklearn.model_selection import train_test_split\n",
    "from sklearn.feature_extraction import DictVectorizer\n",
    "from sklearn.linear_model import LogisticRegression"
   ]
  },
  {
   "cell_type": "code",
   "execution_count": 3,
   "metadata": {
    "_sphinx_cell_id": "44d53bf4-9d5c-47a0-b518-528036f30953"
   },
   "outputs": [],
   "source": [
    "df = pd.read_csv('https://raw.githubusercontent.com/alexeygrigorev/mlbookcamp-code/master/chapter-03-churn-prediction/WA_Fn-UseC_-Telco-Customer-Churn.csv')\n",
    "\n",
    "df.columns = df.columns.str.lower().str.replace(' ', '_')\n",
    "\n",
    "categorical_columns = list(df.dtypes[df.dtypes == 'object'].index)\n",
    "\n",
    "for c in categorical_columns:\n",
    "    df[c] = df[c].str.lower().str.replace(' ', '_')\n",
    "\n",
    "df.totalcharges = pd.to_numeric(df.totalcharges, errors='coerce')\n",
    "df.totalcharges = df.totalcharges.fillna(0)\n",
    "\n",
    "df.churn = (df.churn == 'yes').astype(int)"
   ]
  },
  {
   "cell_type": "code",
   "execution_count": 4,
   "metadata": {
    "_sphinx_cell_id": "9f21a658-fc35-4c74-9a9e-0a2fc61bad7b"
   },
   "outputs": [],
   "source": [
    "df_full_train, df_test = train_test_split(df, test_size=0.2, random_state=1)\n",
    "df_train, df_val = train_test_split(df_full_train, test_size=0.25, random_state=1)\n",
    "\n",
    "df_train = df_train.reset_index(drop=True)\n",
    "df_val = df_val.reset_index(drop=True)\n",
    "df_test = df_test.reset_index(drop=True)\n",
    "\n",
    "y_train = df_train.churn.values\n",
    "y_val = df_val.churn.values\n",
    "y_test = df_test.churn.values\n",
    "\n",
    "del df_train['churn']\n",
    "del df_val['churn']\n",
    "del df_test['churn']"
   ]
  },
  {
   "cell_type": "code",
   "execution_count": 5,
   "metadata": {
    "_sphinx_cell_id": "f8ca6a2d-de03-44c1-85dc-47cbd3179134"
   },
   "outputs": [],
   "source": [
    "numerical = ['tenure', 'monthlycharges', 'totalcharges']\n",
    "\n",
    "categorical = [\n",
    "    'gender',\n",
    "    'seniorcitizen',\n",
    "    'partner',\n",
    "    'dependents',\n",
    "    'phoneservice',\n",
    "    'multiplelines',\n",
    "    'internetservice',\n",
    "    'onlinesecurity',\n",
    "    'onlinebackup',\n",
    "    'deviceprotection',\n",
    "    'techsupport',\n",
    "    'streamingtv',\n",
    "    'streamingmovies',\n",
    "    'contract',\n",
    "    'paperlessbilling',\n",
    "    'paymentmethod',\n",
    "]"
   ]
  },
  {
   "cell_type": "code",
   "execution_count": 6,
   "metadata": {
    "_sphinx_cell_id": "14caec63-a12c-4b84-acb8-42d7ee86ef55"
   },
   "outputs": [
    {
     "name": "stderr",
     "output_type": "stream",
     "text": [
      "/Users/juliastache/Desktop/Courses/ml-zoomcamp/ml-zoomcamp/lib/python3.13/site-packages/sklearn/linear_model/_logistic.py:473: ConvergenceWarning: lbfgs failed to converge after 100 iteration(s) (status=1):\n",
      "STOP: TOTAL NO. OF ITERATIONS REACHED LIMIT\n",
      "\n",
      "Increase the number of iterations to improve the convergence (max_iter=100).\n",
      "You might also want to scale the data as shown in:\n",
      "    https://scikit-learn.org/stable/modules/preprocessing.html\n",
      "Please also refer to the documentation for alternative solver options:\n",
      "    https://scikit-learn.org/stable/modules/linear_model.html#logistic-regression\n",
      "  n_iter_i = _check_optimize_result(\n"
     ]
    },
    {
     "data": {
      "text/html": [
       "<style>#sk-container-id-1 {\n",
       "  /* Definition of color scheme common for light and dark mode */\n",
       "  --sklearn-color-text: #000;\n",
       "  --sklearn-color-text-muted: #666;\n",
       "  --sklearn-color-line: gray;\n",
       "  /* Definition of color scheme for unfitted estimators */\n",
       "  --sklearn-color-unfitted-level-0: #fff5e6;\n",
       "  --sklearn-color-unfitted-level-1: #f6e4d2;\n",
       "  --sklearn-color-unfitted-level-2: #ffe0b3;\n",
       "  --sklearn-color-unfitted-level-3: chocolate;\n",
       "  /* Definition of color scheme for fitted estimators */\n",
       "  --sklearn-color-fitted-level-0: #f0f8ff;\n",
       "  --sklearn-color-fitted-level-1: #d4ebff;\n",
       "  --sklearn-color-fitted-level-2: #b3dbfd;\n",
       "  --sklearn-color-fitted-level-3: cornflowerblue;\n",
       "\n",
       "  /* Specific color for light theme */\n",
       "  --sklearn-color-text-on-default-background: var(--sg-text-color, var(--theme-code-foreground, var(--jp-content-font-color1, black)));\n",
       "  --sklearn-color-background: var(--sg-background-color, var(--theme-background, var(--jp-layout-color0, white)));\n",
       "  --sklearn-color-border-box: var(--sg-text-color, var(--theme-code-foreground, var(--jp-content-font-color1, black)));\n",
       "  --sklearn-color-icon: #696969;\n",
       "\n",
       "  @media (prefers-color-scheme: dark) {\n",
       "    /* Redefinition of color scheme for dark theme */\n",
       "    --sklearn-color-text-on-default-background: var(--sg-text-color, var(--theme-code-foreground, var(--jp-content-font-color1, white)));\n",
       "    --sklearn-color-background: var(--sg-background-color, var(--theme-background, var(--jp-layout-color0, #111)));\n",
       "    --sklearn-color-border-box: var(--sg-text-color, var(--theme-code-foreground, var(--jp-content-font-color1, white)));\n",
       "    --sklearn-color-icon: #878787;\n",
       "  }\n",
       "}\n",
       "\n",
       "#sk-container-id-1 {\n",
       "  color: var(--sklearn-color-text);\n",
       "}\n",
       "\n",
       "#sk-container-id-1 pre {\n",
       "  padding: 0;\n",
       "}\n",
       "\n",
       "#sk-container-id-1 input.sk-hidden--visually {\n",
       "  border: 0;\n",
       "  clip: rect(1px 1px 1px 1px);\n",
       "  clip: rect(1px, 1px, 1px, 1px);\n",
       "  height: 1px;\n",
       "  margin: -1px;\n",
       "  overflow: hidden;\n",
       "  padding: 0;\n",
       "  position: absolute;\n",
       "  width: 1px;\n",
       "}\n",
       "\n",
       "#sk-container-id-1 div.sk-dashed-wrapped {\n",
       "  border: 1px dashed var(--sklearn-color-line);\n",
       "  margin: 0 0.4em 0.5em 0.4em;\n",
       "  box-sizing: border-box;\n",
       "  padding-bottom: 0.4em;\n",
       "  background-color: var(--sklearn-color-background);\n",
       "}\n",
       "\n",
       "#sk-container-id-1 div.sk-container {\n",
       "  /* jupyter's `normalize.less` sets `[hidden] { display: none; }`\n",
       "     but bootstrap.min.css set `[hidden] { display: none !important; }`\n",
       "     so we also need the `!important` here to be able to override the\n",
       "     default hidden behavior on the sphinx rendered scikit-learn.org.\n",
       "     See: https://github.com/scikit-learn/scikit-learn/issues/21755 */\n",
       "  display: inline-block !important;\n",
       "  position: relative;\n",
       "}\n",
       "\n",
       "#sk-container-id-1 div.sk-text-repr-fallback {\n",
       "  display: none;\n",
       "}\n",
       "\n",
       "div.sk-parallel-item,\n",
       "div.sk-serial,\n",
       "div.sk-item {\n",
       "  /* draw centered vertical line to link estimators */\n",
       "  background-image: linear-gradient(var(--sklearn-color-text-on-default-background), var(--sklearn-color-text-on-default-background));\n",
       "  background-size: 2px 100%;\n",
       "  background-repeat: no-repeat;\n",
       "  background-position: center center;\n",
       "}\n",
       "\n",
       "/* Parallel-specific style estimator block */\n",
       "\n",
       "#sk-container-id-1 div.sk-parallel-item::after {\n",
       "  content: \"\";\n",
       "  width: 100%;\n",
       "  border-bottom: 2px solid var(--sklearn-color-text-on-default-background);\n",
       "  flex-grow: 1;\n",
       "}\n",
       "\n",
       "#sk-container-id-1 div.sk-parallel {\n",
       "  display: flex;\n",
       "  align-items: stretch;\n",
       "  justify-content: center;\n",
       "  background-color: var(--sklearn-color-background);\n",
       "  position: relative;\n",
       "}\n",
       "\n",
       "#sk-container-id-1 div.sk-parallel-item {\n",
       "  display: flex;\n",
       "  flex-direction: column;\n",
       "}\n",
       "\n",
       "#sk-container-id-1 div.sk-parallel-item:first-child::after {\n",
       "  align-self: flex-end;\n",
       "  width: 50%;\n",
       "}\n",
       "\n",
       "#sk-container-id-1 div.sk-parallel-item:last-child::after {\n",
       "  align-self: flex-start;\n",
       "  width: 50%;\n",
       "}\n",
       "\n",
       "#sk-container-id-1 div.sk-parallel-item:only-child::after {\n",
       "  width: 0;\n",
       "}\n",
       "\n",
       "/* Serial-specific style estimator block */\n",
       "\n",
       "#sk-container-id-1 div.sk-serial {\n",
       "  display: flex;\n",
       "  flex-direction: column;\n",
       "  align-items: center;\n",
       "  background-color: var(--sklearn-color-background);\n",
       "  padding-right: 1em;\n",
       "  padding-left: 1em;\n",
       "}\n",
       "\n",
       "\n",
       "/* Toggleable style: style used for estimator/Pipeline/ColumnTransformer box that is\n",
       "clickable and can be expanded/collapsed.\n",
       "- Pipeline and ColumnTransformer use this feature and define the default style\n",
       "- Estimators will overwrite some part of the style using the `sk-estimator` class\n",
       "*/\n",
       "\n",
       "/* Pipeline and ColumnTransformer style (default) */\n",
       "\n",
       "#sk-container-id-1 div.sk-toggleable {\n",
       "  /* Default theme specific background. It is overwritten whether we have a\n",
       "  specific estimator or a Pipeline/ColumnTransformer */\n",
       "  background-color: var(--sklearn-color-background);\n",
       "}\n",
       "\n",
       "/* Toggleable label */\n",
       "#sk-container-id-1 label.sk-toggleable__label {\n",
       "  cursor: pointer;\n",
       "  display: flex;\n",
       "  width: 100%;\n",
       "  margin-bottom: 0;\n",
       "  padding: 0.5em;\n",
       "  box-sizing: border-box;\n",
       "  text-align: center;\n",
       "  align-items: start;\n",
       "  justify-content: space-between;\n",
       "  gap: 0.5em;\n",
       "}\n",
       "\n",
       "#sk-container-id-1 label.sk-toggleable__label .caption {\n",
       "  font-size: 0.6rem;\n",
       "  font-weight: lighter;\n",
       "  color: var(--sklearn-color-text-muted);\n",
       "}\n",
       "\n",
       "#sk-container-id-1 label.sk-toggleable__label-arrow:before {\n",
       "  /* Arrow on the left of the label */\n",
       "  content: \"▸\";\n",
       "  float: left;\n",
       "  margin-right: 0.25em;\n",
       "  color: var(--sklearn-color-icon);\n",
       "}\n",
       "\n",
       "#sk-container-id-1 label.sk-toggleable__label-arrow:hover:before {\n",
       "  color: var(--sklearn-color-text);\n",
       "}\n",
       "\n",
       "/* Toggleable content - dropdown */\n",
       "\n",
       "#sk-container-id-1 div.sk-toggleable__content {\n",
       "  display: none;\n",
       "  text-align: left;\n",
       "  /* unfitted */\n",
       "  background-color: var(--sklearn-color-unfitted-level-0);\n",
       "}\n",
       "\n",
       "#sk-container-id-1 div.sk-toggleable__content.fitted {\n",
       "  /* fitted */\n",
       "  background-color: var(--sklearn-color-fitted-level-0);\n",
       "}\n",
       "\n",
       "#sk-container-id-1 div.sk-toggleable__content pre {\n",
       "  margin: 0.2em;\n",
       "  border-radius: 0.25em;\n",
       "  color: var(--sklearn-color-text);\n",
       "  /* unfitted */\n",
       "  background-color: var(--sklearn-color-unfitted-level-0);\n",
       "}\n",
       "\n",
       "#sk-container-id-1 div.sk-toggleable__content.fitted pre {\n",
       "  /* unfitted */\n",
       "  background-color: var(--sklearn-color-fitted-level-0);\n",
       "}\n",
       "\n",
       "#sk-container-id-1 input.sk-toggleable__control:checked~div.sk-toggleable__content {\n",
       "  /* Expand drop-down */\n",
       "  display: block;\n",
       "  width: 100%;\n",
       "  overflow: visible;\n",
       "}\n",
       "\n",
       "#sk-container-id-1 input.sk-toggleable__control:checked~label.sk-toggleable__label-arrow:before {\n",
       "  content: \"▾\";\n",
       "}\n",
       "\n",
       "/* Pipeline/ColumnTransformer-specific style */\n",
       "\n",
       "#sk-container-id-1 div.sk-label input.sk-toggleable__control:checked~label.sk-toggleable__label {\n",
       "  color: var(--sklearn-color-text);\n",
       "  background-color: var(--sklearn-color-unfitted-level-2);\n",
       "}\n",
       "\n",
       "#sk-container-id-1 div.sk-label.fitted input.sk-toggleable__control:checked~label.sk-toggleable__label {\n",
       "  background-color: var(--sklearn-color-fitted-level-2);\n",
       "}\n",
       "\n",
       "/* Estimator-specific style */\n",
       "\n",
       "/* Colorize estimator box */\n",
       "#sk-container-id-1 div.sk-estimator input.sk-toggleable__control:checked~label.sk-toggleable__label {\n",
       "  /* unfitted */\n",
       "  background-color: var(--sklearn-color-unfitted-level-2);\n",
       "}\n",
       "\n",
       "#sk-container-id-1 div.sk-estimator.fitted input.sk-toggleable__control:checked~label.sk-toggleable__label {\n",
       "  /* fitted */\n",
       "  background-color: var(--sklearn-color-fitted-level-2);\n",
       "}\n",
       "\n",
       "#sk-container-id-1 div.sk-label label.sk-toggleable__label,\n",
       "#sk-container-id-1 div.sk-label label {\n",
       "  /* The background is the default theme color */\n",
       "  color: var(--sklearn-color-text-on-default-background);\n",
       "}\n",
       "\n",
       "/* On hover, darken the color of the background */\n",
       "#sk-container-id-1 div.sk-label:hover label.sk-toggleable__label {\n",
       "  color: var(--sklearn-color-text);\n",
       "  background-color: var(--sklearn-color-unfitted-level-2);\n",
       "}\n",
       "\n",
       "/* Label box, darken color on hover, fitted */\n",
       "#sk-container-id-1 div.sk-label.fitted:hover label.sk-toggleable__label.fitted {\n",
       "  color: var(--sklearn-color-text);\n",
       "  background-color: var(--sklearn-color-fitted-level-2);\n",
       "}\n",
       "\n",
       "/* Estimator label */\n",
       "\n",
       "#sk-container-id-1 div.sk-label label {\n",
       "  font-family: monospace;\n",
       "  font-weight: bold;\n",
       "  display: inline-block;\n",
       "  line-height: 1.2em;\n",
       "}\n",
       "\n",
       "#sk-container-id-1 div.sk-label-container {\n",
       "  text-align: center;\n",
       "}\n",
       "\n",
       "/* Estimator-specific */\n",
       "#sk-container-id-1 div.sk-estimator {\n",
       "  font-family: monospace;\n",
       "  border: 1px dotted var(--sklearn-color-border-box);\n",
       "  border-radius: 0.25em;\n",
       "  box-sizing: border-box;\n",
       "  margin-bottom: 0.5em;\n",
       "  /* unfitted */\n",
       "  background-color: var(--sklearn-color-unfitted-level-0);\n",
       "}\n",
       "\n",
       "#sk-container-id-1 div.sk-estimator.fitted {\n",
       "  /* fitted */\n",
       "  background-color: var(--sklearn-color-fitted-level-0);\n",
       "}\n",
       "\n",
       "/* on hover */\n",
       "#sk-container-id-1 div.sk-estimator:hover {\n",
       "  /* unfitted */\n",
       "  background-color: var(--sklearn-color-unfitted-level-2);\n",
       "}\n",
       "\n",
       "#sk-container-id-1 div.sk-estimator.fitted:hover {\n",
       "  /* fitted */\n",
       "  background-color: var(--sklearn-color-fitted-level-2);\n",
       "}\n",
       "\n",
       "/* Specification for estimator info (e.g. \"i\" and \"?\") */\n",
       "\n",
       "/* Common style for \"i\" and \"?\" */\n",
       "\n",
       ".sk-estimator-doc-link,\n",
       "a:link.sk-estimator-doc-link,\n",
       "a:visited.sk-estimator-doc-link {\n",
       "  float: right;\n",
       "  font-size: smaller;\n",
       "  line-height: 1em;\n",
       "  font-family: monospace;\n",
       "  background-color: var(--sklearn-color-background);\n",
       "  border-radius: 1em;\n",
       "  height: 1em;\n",
       "  width: 1em;\n",
       "  text-decoration: none !important;\n",
       "  margin-left: 0.5em;\n",
       "  text-align: center;\n",
       "  /* unfitted */\n",
       "  border: var(--sklearn-color-unfitted-level-1) 1pt solid;\n",
       "  color: var(--sklearn-color-unfitted-level-1);\n",
       "}\n",
       "\n",
       ".sk-estimator-doc-link.fitted,\n",
       "a:link.sk-estimator-doc-link.fitted,\n",
       "a:visited.sk-estimator-doc-link.fitted {\n",
       "  /* fitted */\n",
       "  border: var(--sklearn-color-fitted-level-1) 1pt solid;\n",
       "  color: var(--sklearn-color-fitted-level-1);\n",
       "}\n",
       "\n",
       "/* On hover */\n",
       "div.sk-estimator:hover .sk-estimator-doc-link:hover,\n",
       ".sk-estimator-doc-link:hover,\n",
       "div.sk-label-container:hover .sk-estimator-doc-link:hover,\n",
       ".sk-estimator-doc-link:hover {\n",
       "  /* unfitted */\n",
       "  background-color: var(--sklearn-color-unfitted-level-3);\n",
       "  color: var(--sklearn-color-background);\n",
       "  text-decoration: none;\n",
       "}\n",
       "\n",
       "div.sk-estimator.fitted:hover .sk-estimator-doc-link.fitted:hover,\n",
       ".sk-estimator-doc-link.fitted:hover,\n",
       "div.sk-label-container:hover .sk-estimator-doc-link.fitted:hover,\n",
       ".sk-estimator-doc-link.fitted:hover {\n",
       "  /* fitted */\n",
       "  background-color: var(--sklearn-color-fitted-level-3);\n",
       "  color: var(--sklearn-color-background);\n",
       "  text-decoration: none;\n",
       "}\n",
       "\n",
       "/* Span, style for the box shown on hovering the info icon */\n",
       ".sk-estimator-doc-link span {\n",
       "  display: none;\n",
       "  z-index: 9999;\n",
       "  position: relative;\n",
       "  font-weight: normal;\n",
       "  right: .2ex;\n",
       "  padding: .5ex;\n",
       "  margin: .5ex;\n",
       "  width: min-content;\n",
       "  min-width: 20ex;\n",
       "  max-width: 50ex;\n",
       "  color: var(--sklearn-color-text);\n",
       "  box-shadow: 2pt 2pt 4pt #999;\n",
       "  /* unfitted */\n",
       "  background: var(--sklearn-color-unfitted-level-0);\n",
       "  border: .5pt solid var(--sklearn-color-unfitted-level-3);\n",
       "}\n",
       "\n",
       ".sk-estimator-doc-link.fitted span {\n",
       "  /* fitted */\n",
       "  background: var(--sklearn-color-fitted-level-0);\n",
       "  border: var(--sklearn-color-fitted-level-3);\n",
       "}\n",
       "\n",
       ".sk-estimator-doc-link:hover span {\n",
       "  display: block;\n",
       "}\n",
       "\n",
       "/* \"?\"-specific style due to the `<a>` HTML tag */\n",
       "\n",
       "#sk-container-id-1 a.estimator_doc_link {\n",
       "  float: right;\n",
       "  font-size: 1rem;\n",
       "  line-height: 1em;\n",
       "  font-family: monospace;\n",
       "  background-color: var(--sklearn-color-background);\n",
       "  border-radius: 1rem;\n",
       "  height: 1rem;\n",
       "  width: 1rem;\n",
       "  text-decoration: none;\n",
       "  /* unfitted */\n",
       "  color: var(--sklearn-color-unfitted-level-1);\n",
       "  border: var(--sklearn-color-unfitted-level-1) 1pt solid;\n",
       "}\n",
       "\n",
       "#sk-container-id-1 a.estimator_doc_link.fitted {\n",
       "  /* fitted */\n",
       "  border: var(--sklearn-color-fitted-level-1) 1pt solid;\n",
       "  color: var(--sklearn-color-fitted-level-1);\n",
       "}\n",
       "\n",
       "/* On hover */\n",
       "#sk-container-id-1 a.estimator_doc_link:hover {\n",
       "  /* unfitted */\n",
       "  background-color: var(--sklearn-color-unfitted-level-3);\n",
       "  color: var(--sklearn-color-background);\n",
       "  text-decoration: none;\n",
       "}\n",
       "\n",
       "#sk-container-id-1 a.estimator_doc_link.fitted:hover {\n",
       "  /* fitted */\n",
       "  background-color: var(--sklearn-color-fitted-level-3);\n",
       "}\n",
       "\n",
       ".estimator-table summary {\n",
       "    padding: .5rem;\n",
       "    font-family: monospace;\n",
       "    cursor: pointer;\n",
       "}\n",
       "\n",
       ".estimator-table details[open] {\n",
       "    padding-left: 0.1rem;\n",
       "    padding-right: 0.1rem;\n",
       "    padding-bottom: 0.3rem;\n",
       "}\n",
       "\n",
       ".estimator-table .parameters-table {\n",
       "    margin-left: auto !important;\n",
       "    margin-right: auto !important;\n",
       "}\n",
       "\n",
       ".estimator-table .parameters-table tr:nth-child(odd) {\n",
       "    background-color: #fff;\n",
       "}\n",
       "\n",
       ".estimator-table .parameters-table tr:nth-child(even) {\n",
       "    background-color: #f6f6f6;\n",
       "}\n",
       "\n",
       ".estimator-table .parameters-table tr:hover {\n",
       "    background-color: #e0e0e0;\n",
       "}\n",
       "\n",
       ".estimator-table table td {\n",
       "    border: 1px solid rgba(106, 105, 104, 0.232);\n",
       "}\n",
       "\n",
       ".user-set td {\n",
       "    color:rgb(255, 94, 0);\n",
       "    text-align: left;\n",
       "}\n",
       "\n",
       ".user-set td.value pre {\n",
       "    color:rgb(255, 94, 0) !important;\n",
       "    background-color: transparent !important;\n",
       "}\n",
       "\n",
       ".default td {\n",
       "    color: black;\n",
       "    text-align: left;\n",
       "}\n",
       "\n",
       ".user-set td i,\n",
       ".default td i {\n",
       "    color: black;\n",
       "}\n",
       "\n",
       ".copy-paste-icon {\n",
       "    background-image: url(data:image/svg+xml;base64,PHN2ZyB4bWxucz0iaHR0cDovL3d3dy53My5vcmcvMjAwMC9zdmciIHZpZXdCb3g9IjAgMCA0NDggNTEyIj48IS0tIUZvbnQgQXdlc29tZSBGcmVlIDYuNy4yIGJ5IEBmb250YXdlc29tZSAtIGh0dHBzOi8vZm9udGF3ZXNvbWUuY29tIExpY2Vuc2UgLSBodHRwczovL2ZvbnRhd2Vzb21lLmNvbS9saWNlbnNlL2ZyZWUgQ29weXJpZ2h0IDIwMjUgRm9udGljb25zLCBJbmMuLS0+PHBhdGggZD0iTTIwOCAwTDMzMi4xIDBjMTIuNyAwIDI0LjkgNS4xIDMzLjkgMTQuMWw2Ny45IDY3LjljOSA5IDE0LjEgMjEuMiAxNC4xIDMzLjlMNDQ4IDMzNmMwIDI2LjUtMjEuNSA0OC00OCA0OGwtMTkyIDBjLTI2LjUgMC00OC0yMS41LTQ4LTQ4bDAtMjg4YzAtMjYuNSAyMS41LTQ4IDQ4LTQ4ek00OCAxMjhsODAgMCAwIDY0LTY0IDAgMCAyNTYgMTkyIDAgMC0zMiA2NCAwIDAgNDhjMCAyNi41LTIxLjUgNDgtNDggNDhMNDggNTEyYy0yNi41IDAtNDgtMjEuNS00OC00OEwwIDE3NmMwLTI2LjUgMjEuNS00OCA0OC00OHoiLz48L3N2Zz4=);\n",
       "    background-repeat: no-repeat;\n",
       "    background-size: 14px 14px;\n",
       "    background-position: 0;\n",
       "    display: inline-block;\n",
       "    width: 14px;\n",
       "    height: 14px;\n",
       "    cursor: pointer;\n",
       "}\n",
       "</style><body><div id=\"sk-container-id-1\" class=\"sk-top-container\"><div class=\"sk-text-repr-fallback\"><pre>LogisticRegression()</pre><b>In a Jupyter environment, please rerun this cell to show the HTML representation or trust the notebook. <br />On GitHub, the HTML representation is unable to render, please try loading this page with nbviewer.org.</b></div><div class=\"sk-container\" hidden><div class=\"sk-item\"><div class=\"sk-estimator fitted sk-toggleable\"><input class=\"sk-toggleable__control sk-hidden--visually\" id=\"sk-estimator-id-1\" type=\"checkbox\" checked><label for=\"sk-estimator-id-1\" class=\"sk-toggleable__label fitted sk-toggleable__label-arrow\"><div><div>LogisticRegression</div></div><div><a class=\"sk-estimator-doc-link fitted\" rel=\"noreferrer\" target=\"_blank\" href=\"https://scikit-learn.org/1.7/modules/generated/sklearn.linear_model.LogisticRegression.html\">?<span>Documentation for LogisticRegression</span></a><span class=\"sk-estimator-doc-link fitted\">i<span>Fitted</span></span></div></label><div class=\"sk-toggleable__content fitted\" data-param-prefix=\"\">\n",
       "        <div class=\"estimator-table\">\n",
       "            <details>\n",
       "                <summary>Parameters</summary>\n",
       "                <table class=\"parameters-table\">\n",
       "                  <tbody>\n",
       "                    \n",
       "        <tr class=\"default\">\n",
       "            <td><i class=\"copy-paste-icon\"\n",
       "                 onclick=\"copyToClipboard('penalty',\n",
       "                          this.parentElement.nextElementSibling)\"\n",
       "            ></i></td>\n",
       "            <td class=\"param\">penalty&nbsp;</td>\n",
       "            <td class=\"value\">&#x27;l2&#x27;</td>\n",
       "        </tr>\n",
       "    \n",
       "\n",
       "        <tr class=\"default\">\n",
       "            <td><i class=\"copy-paste-icon\"\n",
       "                 onclick=\"copyToClipboard('dual',\n",
       "                          this.parentElement.nextElementSibling)\"\n",
       "            ></i></td>\n",
       "            <td class=\"param\">dual&nbsp;</td>\n",
       "            <td class=\"value\">False</td>\n",
       "        </tr>\n",
       "    \n",
       "\n",
       "        <tr class=\"default\">\n",
       "            <td><i class=\"copy-paste-icon\"\n",
       "                 onclick=\"copyToClipboard('tol',\n",
       "                          this.parentElement.nextElementSibling)\"\n",
       "            ></i></td>\n",
       "            <td class=\"param\">tol&nbsp;</td>\n",
       "            <td class=\"value\">0.0001</td>\n",
       "        </tr>\n",
       "    \n",
       "\n",
       "        <tr class=\"default\">\n",
       "            <td><i class=\"copy-paste-icon\"\n",
       "                 onclick=\"copyToClipboard('C',\n",
       "                          this.parentElement.nextElementSibling)\"\n",
       "            ></i></td>\n",
       "            <td class=\"param\">C&nbsp;</td>\n",
       "            <td class=\"value\">1.0</td>\n",
       "        </tr>\n",
       "    \n",
       "\n",
       "        <tr class=\"default\">\n",
       "            <td><i class=\"copy-paste-icon\"\n",
       "                 onclick=\"copyToClipboard('fit_intercept',\n",
       "                          this.parentElement.nextElementSibling)\"\n",
       "            ></i></td>\n",
       "            <td class=\"param\">fit_intercept&nbsp;</td>\n",
       "            <td class=\"value\">True</td>\n",
       "        </tr>\n",
       "    \n",
       "\n",
       "        <tr class=\"default\">\n",
       "            <td><i class=\"copy-paste-icon\"\n",
       "                 onclick=\"copyToClipboard('intercept_scaling',\n",
       "                          this.parentElement.nextElementSibling)\"\n",
       "            ></i></td>\n",
       "            <td class=\"param\">intercept_scaling&nbsp;</td>\n",
       "            <td class=\"value\">1</td>\n",
       "        </tr>\n",
       "    \n",
       "\n",
       "        <tr class=\"default\">\n",
       "            <td><i class=\"copy-paste-icon\"\n",
       "                 onclick=\"copyToClipboard('class_weight',\n",
       "                          this.parentElement.nextElementSibling)\"\n",
       "            ></i></td>\n",
       "            <td class=\"param\">class_weight&nbsp;</td>\n",
       "            <td class=\"value\">None</td>\n",
       "        </tr>\n",
       "    \n",
       "\n",
       "        <tr class=\"default\">\n",
       "            <td><i class=\"copy-paste-icon\"\n",
       "                 onclick=\"copyToClipboard('random_state',\n",
       "                          this.parentElement.nextElementSibling)\"\n",
       "            ></i></td>\n",
       "            <td class=\"param\">random_state&nbsp;</td>\n",
       "            <td class=\"value\">None</td>\n",
       "        </tr>\n",
       "    \n",
       "\n",
       "        <tr class=\"default\">\n",
       "            <td><i class=\"copy-paste-icon\"\n",
       "                 onclick=\"copyToClipboard('solver',\n",
       "                          this.parentElement.nextElementSibling)\"\n",
       "            ></i></td>\n",
       "            <td class=\"param\">solver&nbsp;</td>\n",
       "            <td class=\"value\">&#x27;lbfgs&#x27;</td>\n",
       "        </tr>\n",
       "    \n",
       "\n",
       "        <tr class=\"default\">\n",
       "            <td><i class=\"copy-paste-icon\"\n",
       "                 onclick=\"copyToClipboard('max_iter',\n",
       "                          this.parentElement.nextElementSibling)\"\n",
       "            ></i></td>\n",
       "            <td class=\"param\">max_iter&nbsp;</td>\n",
       "            <td class=\"value\">100</td>\n",
       "        </tr>\n",
       "    \n",
       "\n",
       "        <tr class=\"default\">\n",
       "            <td><i class=\"copy-paste-icon\"\n",
       "                 onclick=\"copyToClipboard('multi_class',\n",
       "                          this.parentElement.nextElementSibling)\"\n",
       "            ></i></td>\n",
       "            <td class=\"param\">multi_class&nbsp;</td>\n",
       "            <td class=\"value\">&#x27;deprecated&#x27;</td>\n",
       "        </tr>\n",
       "    \n",
       "\n",
       "        <tr class=\"default\">\n",
       "            <td><i class=\"copy-paste-icon\"\n",
       "                 onclick=\"copyToClipboard('verbose',\n",
       "                          this.parentElement.nextElementSibling)\"\n",
       "            ></i></td>\n",
       "            <td class=\"param\">verbose&nbsp;</td>\n",
       "            <td class=\"value\">0</td>\n",
       "        </tr>\n",
       "    \n",
       "\n",
       "        <tr class=\"default\">\n",
       "            <td><i class=\"copy-paste-icon\"\n",
       "                 onclick=\"copyToClipboard('warm_start',\n",
       "                          this.parentElement.nextElementSibling)\"\n",
       "            ></i></td>\n",
       "            <td class=\"param\">warm_start&nbsp;</td>\n",
       "            <td class=\"value\">False</td>\n",
       "        </tr>\n",
       "    \n",
       "\n",
       "        <tr class=\"default\">\n",
       "            <td><i class=\"copy-paste-icon\"\n",
       "                 onclick=\"copyToClipboard('n_jobs',\n",
       "                          this.parentElement.nextElementSibling)\"\n",
       "            ></i></td>\n",
       "            <td class=\"param\">n_jobs&nbsp;</td>\n",
       "            <td class=\"value\">None</td>\n",
       "        </tr>\n",
       "    \n",
       "\n",
       "        <tr class=\"default\">\n",
       "            <td><i class=\"copy-paste-icon\"\n",
       "                 onclick=\"copyToClipboard('l1_ratio',\n",
       "                          this.parentElement.nextElementSibling)\"\n",
       "            ></i></td>\n",
       "            <td class=\"param\">l1_ratio&nbsp;</td>\n",
       "            <td class=\"value\">None</td>\n",
       "        </tr>\n",
       "    \n",
       "                  </tbody>\n",
       "                </table>\n",
       "            </details>\n",
       "        </div>\n",
       "    </div></div></div></div></div><script>function copyToClipboard(text, element) {\n",
       "    // Get the parameter prefix from the closest toggleable content\n",
       "    const toggleableContent = element.closest('.sk-toggleable__content');\n",
       "    const paramPrefix = toggleableContent ? toggleableContent.dataset.paramPrefix : '';\n",
       "    const fullParamName = paramPrefix ? `${paramPrefix}${text}` : text;\n",
       "\n",
       "    const originalStyle = element.style;\n",
       "    const computedStyle = window.getComputedStyle(element);\n",
       "    const originalWidth = computedStyle.width;\n",
       "    const originalHTML = element.innerHTML.replace('Copied!', '');\n",
       "\n",
       "    navigator.clipboard.writeText(fullParamName)\n",
       "        .then(() => {\n",
       "            element.style.width = originalWidth;\n",
       "            element.style.color = 'green';\n",
       "            element.innerHTML = \"Copied!\";\n",
       "\n",
       "            setTimeout(() => {\n",
       "                element.innerHTML = originalHTML;\n",
       "                element.style = originalStyle;\n",
       "            }, 2000);\n",
       "        })\n",
       "        .catch(err => {\n",
       "            console.error('Failed to copy:', err);\n",
       "            element.style.color = 'red';\n",
       "            element.innerHTML = \"Failed!\";\n",
       "            setTimeout(() => {\n",
       "                element.innerHTML = originalHTML;\n",
       "                element.style = originalStyle;\n",
       "            }, 2000);\n",
       "        });\n",
       "    return false;\n",
       "}\n",
       "\n",
       "document.querySelectorAll('.fa-regular.fa-copy').forEach(function(element) {\n",
       "    const toggleableContent = element.closest('.sk-toggleable__content');\n",
       "    const paramPrefix = toggleableContent ? toggleableContent.dataset.paramPrefix : '';\n",
       "    const paramName = element.parentElement.nextElementSibling.textContent.trim();\n",
       "    const fullParamName = paramPrefix ? `${paramPrefix}${paramName}` : paramName;\n",
       "\n",
       "    element.setAttribute('title', fullParamName);\n",
       "});\n",
       "</script></body>"
      ],
      "text/plain": [
       "LogisticRegression()"
      ]
     },
     "execution_count": 6,
     "metadata": {},
     "output_type": "execute_result"
    }
   ],
   "source": [
    "dv = DictVectorizer(sparse=False)\n",
    "\n",
    "train_dict = df_train[categorical + numerical].to_dict(orient='records')\n",
    "X_train = dv.fit_transform(train_dict)\n",
    "\n",
    "model = LogisticRegression()\n",
    "model.fit(X_train, y_train)"
   ]
  },
  {
   "cell_type": "code",
   "execution_count": 7,
   "metadata": {
    "_sphinx_cell_id": "74f85ccc-e9a0-42b6-8619-e3a5e2968b11"
   },
   "outputs": [
    {
     "data": {
      "text/plain": [
       "np.float64(0.8034066713981547)"
      ]
     },
     "execution_count": 7,
     "metadata": {},
     "output_type": "execute_result"
    }
   ],
   "source": [
    "val_dict = df_val[categorical + numerical].to_dict(orient='records')\n",
    "X_val = dv.transform(val_dict)\n",
    "\n",
    "y_pred = model.predict_proba(X_val)[:, 1]\n",
    "churn_decision = (y_pred >= 0.5)\n",
    "(y_val == churn_decision).mean()"
   ]
  },
  {
   "cell_type": "markdown",
   "metadata": {
    "_sphinx_cell_id": "7b994458-8202-4c9c-9531-d8af0d2728fd"
   },
   "source": [
    "# 4.2 Accuracy and dummy model\n",
    "- Evaluate the model on different decision thresholds\n",
    "- Check the accuracy of dummy baselines"
   ]
  },
  {
   "cell_type": "code",
   "execution_count": 8,
   "metadata": {
    "_sphinx_cell_id": "78c49989-f3af-45bd-b5dc-08edd64712f4"
   },
   "outputs": [
    {
     "name": "stdout",
     "output_type": "stream",
     "text": [
      "Accuracy with churn_decision = 0.5: 0.80\n"
     ]
    }
   ],
   "source": [
    "# Accuracy with churn_decision = 0.5\n",
    "print(\"Accuracy with churn_decision = 0.5: {:.2f}\".format((y_val == churn_decision).mean()))"
   ]
  },
  {
   "cell_type": "code",
   "execution_count": 9,
   "metadata": {
    "_sphinx_cell_id": "a2f80a7f-ba17-4d95-8b83-e8c9e1c769fb"
   },
   "outputs": [
    {
     "name": "stdout",
     "output_type": "stream",
     "text": [
      "Accuracy with churn_decision = 0.00: 0.274\n",
      "Accuracy with churn_decision = 0.05: 0.509\n",
      "Accuracy with churn_decision = 0.10: 0.591\n",
      "Accuracy with churn_decision = 0.15: 0.666\n",
      "Accuracy with churn_decision = 0.20: 0.710\n",
      "Accuracy with churn_decision = 0.25: 0.739\n",
      "Accuracy with churn_decision = 0.30: 0.760\n",
      "Accuracy with churn_decision = 0.35: 0.772\n",
      "Accuracy with churn_decision = 0.40: 0.785\n",
      "Accuracy with churn_decision = 0.45: 0.793\n",
      "Accuracy with churn_decision = 0.50: 0.803\n",
      "Accuracy with churn_decision = 0.55: 0.801\n",
      "Accuracy with churn_decision = 0.60: 0.795\n",
      "Accuracy with churn_decision = 0.65: 0.786\n",
      "Accuracy with churn_decision = 0.70: 0.766\n",
      "Accuracy with churn_decision = 0.75: 0.744\n",
      "Accuracy with churn_decision = 0.80: 0.735\n",
      "Accuracy with churn_decision = 0.85: 0.726\n",
      "Accuracy with churn_decision = 0.90: 0.726\n",
      "Accuracy with churn_decision = 0.95: 0.726\n",
      "Accuracy with churn_decision = 1.00: 0.726\n"
     ]
    }
   ],
   "source": [
    "# try different thresholds\n",
    "thresholds = np.linspace(0, 1, 21)\n",
    "\n",
    "scores =[]\n",
    "\n",
    "for t in thresholds:\n",
    "    churn_decision = (y_pred >= t)\n",
    "    score = (y_val == churn_decision).mean()\n",
    "    print(\"Accuracy with churn_decision = {:.2f}: {:.3f}\".format(t, score))\n",
    "    scores.append(score)"
   ]
  },
  {
   "cell_type": "code",
   "execution_count": 10,
   "metadata": {
    "_sphinx_cell_id": "7356add9-7a85-42c6-8d84-241ce5d959c0"
   },
   "outputs": [
    {
     "data": {
      "image/png": "[encoded data removed]",
      "text/plain": [
       "<Figure size 640x480 with 1 Axes>"
      ]
     },
     "metadata": {},
     "output_type": "display_data"
    }
   ],
   "source": [
    "plt.plot(thresholds,scores)\n",
    "plt.xlabel(\"Decision threshold\")\n",
    "plt.ylabel(\"Accuracy\")\n",
    "plt.show()"
   ]
  },
  {
   "cell_type": "code",
   "execution_count": 11,
   "metadata": {
    "_sphinx_cell_id": "bff57e14-da66-47de-8528-9d4244b79b3a"
   },
   "outputs": [],
   "source": [
    "# use accuracy function by sklearn\n",
    "from sklearn.metrics import accuracy_score"
   ]
  },
  {
   "cell_type": "code",
   "execution_count": 12,
   "metadata": {
    "_sphinx_cell_id": "41514e21-76f1-4dcd-9284-a8fd3c498794"
   },
   "outputs": [
    {
     "data": {
      "text/plain": [
       "0.8034066713981547"
      ]
     },
     "execution_count": 12,
     "metadata": {},
     "output_type": "execute_result"
    }
   ],
   "source": [
    "accuracy_score(y_val, (y_pred>=0.5))"
   ]
  },
  {
   "cell_type": "code",
   "execution_count": 13,
   "metadata": {
    "_sphinx_cell_id": "fb3e87e7-cb5c-455a-83cc-8ea7dca4748b"
   },
   "outputs": [],
   "source": [
    "from collections import Counter"
   ]
  },
  {
   "cell_type": "code",
   "execution_count": 14,
   "metadata": {
    "_sphinx_cell_id": "19cd0871-b5be-4abe-8f69-9690614c096d"
   },
   "outputs": [
    {
     "data": {
      "text/plain": [
       "Counter({np.False_: 1409})"
      ]
     },
     "execution_count": 14,
     "metadata": {},
     "output_type": "execute_result"
    }
   ],
   "source": [
    "# if decision threshold were 1, none of the customers would be predicted to churn\n",
    "# This model already has an accuracy of almost 73%\n",
    "Counter(y_pred >= 1.0)"
   ]
  },
  {
   "cell_type": "markdown",
   "id": "e550f63d",
   "metadata": {
    "_sphinx_cell_id": "3f252170-8fe7-4b23-b873-3f358e1733cd"
   },
   "source": [
    "Accuracy is not the best metric to evaluate the model because there is a high bias towards the negative (non-churning) class - the model will be mostly correct if it predicts that a customer will not be churning. "
   ]
  },
  {
   "cell_type": "code",
   "execution_count": 15,
   "metadata": {
    "_sphinx_cell_id": "65ae44bb-414d-4fd2-b00e-18968e40b2f5"
   },
   "outputs": [
    {
     "data": {
      "image/png": "[encoded data removed]",
      "text/plain": [
       "<Figure size 640x480 with 1 Axes>"
      ]
     },
     "metadata": {},
     "output_type": "display_data"
    }
   ],
   "source": [
    "# plot churning vs non-churning customers\n",
    "import seaborn as sns\n",
    "sns.countplot(x='churn', data=df)\n",
    "plt.show()"
   ]
  },
  {
   "cell_type": "markdown",
   "metadata": {
    "_sphinx_cell_id": "b6bea533-c7ba-4556-ba17-c901c7edfdfa"
   },
   "source": [
    "# 4.3 Confusion Table\n",
    "- different types of errors and correct decisions\n"
   ]
  },
  {
   "cell_type": "code",
   "execution_count": 16,
   "id": "cb9f3486",
   "metadata": {
    "_sphinx_cell_id": "68ecacad-5995-46c0-b4c3-0feff722e988"
   },
   "outputs": [],
   "source": [
    "actual_positive = (y_val == 1)\n",
    "actual_negative = (y_val == 0)"
   ]
  },
  {
   "cell_type": "code",
   "execution_count": 17,
   "metadata": {
    "_sphinx_cell_id": "7a7533fa-601e-460f-9f51-a9ad47d3c344"
   },
   "outputs": [],
   "source": [
    "# threshold\n",
    "t = 0.5\n",
    "predict_positive = (y_pred >= t)\n",
    "predict_negative = (y_pred < t)"
   ]
  },
  {
   "cell_type": "code",
   "execution_count": 18,
   "metadata": {
    "_sphinx_cell_id": "b74a668a-68d8-4d49-9b4e-e9f018b8048a"
   },
   "outputs": [],
   "source": [
    "# true positive\n",
    "tp = (predict_positive & actual_positive).sum()\n",
    "# true negative\n",
    "tn = (predict_negative & actual_negative).sum()"
   ]
  },
  {
   "cell_type": "code",
   "execution_count": 19,
   "metadata": {
    "_sphinx_cell_id": "0475bb6c-02ec-4716-9079-b0c7204c8fa5"
   },
   "outputs": [],
   "source": [
    "# false positives\n",
    "fp = (predict_positive & actual_negative).sum()\n",
    "# false negatives\n",
    "fn = (predict_negative & actual_positive).sum()\n"
   ]
  },
  {
   "cell_type": "code",
   "execution_count": 20,
   "metadata": {
    "_sphinx_cell_id": "f8cdadcb-0fdf-4a66-9c96-4857f076ead5"
   },
   "outputs": [
    {
     "data": {
      "text/plain": [
       "np.int64(101)"
      ]
     },
     "execution_count": 20,
     "metadata": {},
     "output_type": "execute_result"
    }
   ],
   "source": [
    "fp"
   ]
  },
  {
   "cell_type": "code",
   "execution_count": 21,
   "metadata": {
    "_sphinx_cell_id": "c3593571-8cd7-4c46-af19-21b01a25bd63"
   },
   "outputs": [
    {
     "data": {
      "text/plain": [
       "array([[210, 101],\n",
       "       [176, 922]])"
      ]
     },
     "execution_count": 21,
     "metadata": {},
     "output_type": "execute_result"
    }
   ],
   "source": [
    "confusion_matrix = np.array([\n",
    "    [tp, fp], \n",
    "    [fn, tn]\n",
    "])\n",
    "confusion_matrix\n"
   ]
  },
  {
   "cell_type": "code",
   "execution_count": 22,
   "metadata": {
    "_sphinx_cell_id": "9751cb2e-c161-46fc-b67f-7e3e107d5696"
   },
   "outputs": [
    {
     "data": {
      "text/plain": [
       "array([[0.14904187, 0.07168204],\n",
       "       [0.12491128, 0.6543648 ]])"
      ]
     },
     "execution_count": 22,
     "metadata": {},
     "output_type": "execute_result"
    }
   ],
   "source": [
    "# relative values\n",
    "confusion_matrix/confusion_matrix.sum()"
   ]
  },
  {
   "cell_type": "markdown",
   "id": "1f75f597",
   "metadata": {
    "_sphinx_cell_id": "d6ffd0fe-c912-421b-87bb-eaf842a36be7"
   },
   "source": [
    "# 4.4 Precision and Recall\n",
    "Metrics for binary classification models\n",
    "Precision: how many users predicted as churners are actually churners? \n",
    "Recall: how many of all churned customers are correctly predicted as churners?"
   ]
  },
  {
   "cell_type": "code",
   "execution_count": 23,
   "metadata": {
    "_sphinx_cell_id": "b72a5ca0-5e18-4c1c-8191-e436f61064be"
   },
   "outputs": [],
   "source": [
    "precision = tp/(tp+fp)\n",
    "recall = tp/(tp+fn)"
   ]
  },
  {
   "cell_type": "code",
   "execution_count": 24,
   "metadata": {
    "_sphinx_cell_id": "f7f65b4f-834d-4f62-b7a3-e247c9c6698b"
   },
   "outputs": [
    {
     "name": "stdout",
     "output_type": "stream",
     "text": [
      "Precision:  0.6752411575562701\n",
      "Recall:  0.5440414507772021\n"
     ]
    }
   ],
   "source": [
    "print(\"Precision: \", precision)\n",
    "print(\"Recall: \", recall)"
   ]
  },
  {
   "cell_type": "markdown",
   "id": "dd970aa3",
   "metadata": {
    "_sphinx_cell_id": "d37120a1-77d4-4ce1-8a2f-28068136418a"
   },
   "source": [
    "# 4.5. ROC Curves\n",
    "ROC stands for Receiver Operating Characteristic. It is a graph that shows the true positive rate (TPR) and false positive rate (FPR) for each class."
   ]
  },
  {
   "cell_type": "code",
   "execution_count": 25,
   "id": "3132729e",
   "metadata": {
    "_sphinx_cell_id": "33fef4b3-73dc-47d8-9cf9-023e718286bd"
   },
   "outputs": [],
   "source": [
    "# true positive rate: TPR = TP/(TP+FN) - same as recall\n",
    "tpr = tp/(tp+fn)\n",
    "# false positive rate: FPR = FP/(TN+FP)\n",
    "fpr = fp/(tn+fp)"
   ]
  },
  {
   "cell_type": "code",
   "execution_count": 26,
   "metadata": {
    "_sphinx_cell_id": "6198c1e0-0939-4f5c-93b3-0c33622b8199"
   },
   "outputs": [],
   "source": [
    "# calculate for all thresholds between 0 and 1 in 0.01 steps\n",
    "thresholds = np.linspace(0, 1, 101)"
   ]
  },
  {
   "cell_type": "code",
   "execution_count": 27,
   "metadata": {
    "_sphinx_cell_id": "e7cd1a94-c84e-431b-b00c-35e58073c78e"
   },
   "outputs": [],
   "source": [
    "def tpr_fpr_dataframe(y_val,y_pred):\n",
    "    scores = []\n",
    "\n",
    "    for t in thresholds:\n",
    "        actual_positive = (y_val == 1)\n",
    "        actual_negative = (y_val == 0)\n",
    "        \n",
    "        predict_positive = (y_pred >= t)\n",
    "        predict_negative = (y_pred < t)\n",
    "\n",
    "        # true positive\n",
    "        tp = (predict_positive & actual_positive).sum()\n",
    "        # true negative\n",
    "        tn = (predict_negative & actual_negative).sum()\n",
    "\n",
    "        # false positives\n",
    "        fp = (predict_positive & actual_negative).sum()\n",
    "        # false negatives\n",
    "        fn = (predict_negative & actual_positive).sum()\n",
    "\n",
    "        # true positive rate: TPR = TP/(TP+FN) - same as recall\n",
    "        tpr = tp/(tp+fn)\n",
    "        # false positive rate: FPR = FP/(TN+FP)\n",
    "        fpr = fp/(tn+fp)\n",
    "        scores.append({'threshold':t, 'tp': tp, 'tn': tn, 'fp': fp, 'fn': fn, 'tpr': tpr, 'fpr': fpr})\n",
    "\n",
    "    df_scores = pd.DataFrame(scores)\n",
    "\n",
    "    return df_scores"
   ]
  },
  {
   "cell_type": "code",
   "execution_count": 28,
   "metadata": {
    "_sphinx_cell_id": "32a1cf51-70e1-4c44-9dd8-9c84b60a421a"
   },
   "outputs": [
    {
     "data": {
      "text/html": [
       "<div>\n",
       "<style scoped>\n",
       "    .dataframe tbody tr th:only-of-type {\n",
       "        vertical-align: middle;\n",
       "    }\n",
       "\n",
       "    .dataframe tbody tr th {\n",
       "        vertical-align: top;\n",
       "    }\n",
       "\n",
       "    .dataframe thead th {\n",
       "        text-align: right;\n",
       "    }\n",
       "</style>\n",
       "<table border=\"1\" class=\"dataframe\">\n",
       "  <thead>\n",
       "    <tr style=\"text-align: right;\">\n",
       "      <th></th>\n",
       "      <th>threshold</th>\n",
       "      <th>tp</th>\n",
       "      <th>tn</th>\n",
       "      <th>fp</th>\n",
       "      <th>fn</th>\n",
       "      <th>tpr</th>\n",
       "      <th>fpr</th>\n",
       "    </tr>\n",
       "  </thead>\n",
       "  <tbody>\n",
       "    <tr>\n",
       "      <th>0</th>\n",
       "      <td>0.0</td>\n",
       "      <td>386</td>\n",
       "      <td>0</td>\n",
       "      <td>1023</td>\n",
       "      <td>0</td>\n",
       "      <td>1.000000</td>\n",
       "      <td>1.000000</td>\n",
       "    </tr>\n",
       "    <tr>\n",
       "      <th>10</th>\n",
       "      <td>0.1</td>\n",
       "      <td>366</td>\n",
       "      <td>467</td>\n",
       "      <td>556</td>\n",
       "      <td>20</td>\n",
       "      <td>0.948187</td>\n",
       "      <td>0.543500</td>\n",
       "    </tr>\n",
       "    <tr>\n",
       "      <th>20</th>\n",
       "      <td>0.2</td>\n",
       "      <td>333</td>\n",
       "      <td>667</td>\n",
       "      <td>356</td>\n",
       "      <td>53</td>\n",
       "      <td>0.862694</td>\n",
       "      <td>0.347996</td>\n",
       "    </tr>\n",
       "    <tr>\n",
       "      <th>30</th>\n",
       "      <td>0.3</td>\n",
       "      <td>284</td>\n",
       "      <td>787</td>\n",
       "      <td>236</td>\n",
       "      <td>102</td>\n",
       "      <td>0.735751</td>\n",
       "      <td>0.230694</td>\n",
       "    </tr>\n",
       "    <tr>\n",
       "      <th>40</th>\n",
       "      <td>0.4</td>\n",
       "      <td>249</td>\n",
       "      <td>857</td>\n",
       "      <td>166</td>\n",
       "      <td>137</td>\n",
       "      <td>0.645078</td>\n",
       "      <td>0.162268</td>\n",
       "    </tr>\n",
       "    <tr>\n",
       "      <th>50</th>\n",
       "      <td>0.5</td>\n",
       "      <td>210</td>\n",
       "      <td>922</td>\n",
       "      <td>101</td>\n",
       "      <td>176</td>\n",
       "      <td>0.544041</td>\n",
       "      <td>0.098729</td>\n",
       "    </tr>\n",
       "    <tr>\n",
       "      <th>60</th>\n",
       "      <td>0.6</td>\n",
       "      <td>150</td>\n",
       "      <td>970</td>\n",
       "      <td>53</td>\n",
       "      <td>236</td>\n",
       "      <td>0.388601</td>\n",
       "      <td>0.051808</td>\n",
       "    </tr>\n",
       "    <tr>\n",
       "      <th>70</th>\n",
       "      <td>0.7</td>\n",
       "      <td>76</td>\n",
       "      <td>1003</td>\n",
       "      <td>20</td>\n",
       "      <td>310</td>\n",
       "      <td>0.196891</td>\n",
       "      <td>0.019550</td>\n",
       "    </tr>\n",
       "    <tr>\n",
       "      <th>80</th>\n",
       "      <td>0.8</td>\n",
       "      <td>13</td>\n",
       "      <td>1022</td>\n",
       "      <td>1</td>\n",
       "      <td>373</td>\n",
       "      <td>0.033679</td>\n",
       "      <td>0.000978</td>\n",
       "    </tr>\n",
       "    <tr>\n",
       "      <th>90</th>\n",
       "      <td>0.9</td>\n",
       "      <td>0</td>\n",
       "      <td>1023</td>\n",
       "      <td>0</td>\n",
       "      <td>386</td>\n",
       "      <td>0.000000</td>\n",
       "      <td>0.000000</td>\n",
       "    </tr>\n",
       "    <tr>\n",
       "      <th>100</th>\n",
       "      <td>1.0</td>\n",
       "      <td>0</td>\n",
       "      <td>1023</td>\n",
       "      <td>0</td>\n",
       "      <td>386</td>\n",
       "      <td>0.000000</td>\n",
       "      <td>0.000000</td>\n",
       "    </tr>\n",
       "  </tbody>\n",
       "</table>\n",
       "</div>"
      ],
      "text/plain": [
       "     threshold   tp    tn    fp   fn       tpr       fpr\n",
       "0          0.0  386     0  1023    0  1.000000  1.000000\n",
       "10         0.1  366   467   556   20  0.948187  0.543500\n",
       "20         0.2  333   667   356   53  0.862694  0.347996\n",
       "30         0.3  284   787   236  102  0.735751  0.230694\n",
       "40         0.4  249   857   166  137  0.645078  0.162268\n",
       "50         0.5  210   922   101  176  0.544041  0.098729\n",
       "60         0.6  150   970    53  236  0.388601  0.051808\n",
       "70         0.7   76  1003    20  310  0.196891  0.019550\n",
       "80         0.8   13  1022     1  373  0.033679  0.000978\n",
       "90         0.9    0  1023     0  386  0.000000  0.000000\n",
       "100        1.0    0  1023     0  386  0.000000  0.000000"
      ]
     },
     "execution_count": 28,
     "metadata": {},
     "output_type": "execute_result"
    }
   ],
   "source": [
    "df_scores = tpr_fpr_dataframe(y_val,y_pred)\n",
    "df_scores[::10]"
   ]
  },
  {
   "cell_type": "code",
   "execution_count": 29,
   "metadata": {
    "_sphinx_cell_id": "11f4a1d7-a0b6-4847-91aa-da63c1d3527d"
   },
   "outputs": [
    {
     "data": {
      "image/png": "[encoded data removed]",
      "text/plain": [
       "<Figure size 640x480 with 1 Axes>"
      ]
     },
     "metadata": {},
     "output_type": "display_data"
    }
   ],
   "source": [
    "#plot scores\n",
    "plt.plot(df_scores.threshold, df_scores.tpr, label='tpr')\n",
    "plt.plot(df_scores.threshold, df_scores.fpr, label='fpr')\n",
    "plt.legend()\n",
    "plt.show()\n"
   ]
  },
  {
   "cell_type": "markdown",
   "id": "e151e213",
   "metadata": {
    "_sphinx_cell_id": "fbd6c3f5-b51e-4260-95da-eff7ee43978f"
   },
   "source": [
    "The Goal is to minimize FPR and maximize TPR."
   ]
  },
  {
   "cell_type": "markdown",
   "metadata": {
    "_sphinx_cell_id": "6add7096-2053-4bbf-bd32-183e9e91491a"
   },
   "source": [
    "### Random Model\n",
    "assign a random churn value to each customer to compare baseline model"
   ]
  },
  {
   "cell_type": "code",
   "execution_count": 30,
   "metadata": {
    "_sphinx_cell_id": "fb3d7988-43b1-40df-b194-21f5ebc7ece2"
   },
   "outputs": [
    {
     "data": {
      "text/plain": [
       "array([4.17022005e-01, 7.20324493e-01, 1.14374817e-04, ...,\n",
       "       7.73916250e-01, 3.34276405e-01, 8.89982208e-02], shape=(1409,))"
      ]
     },
     "execution_count": 30,
     "metadata": {},
     "output_type": "execute_result"
    }
   ],
   "source": [
    "np.random.seed(1)\n",
    "y_rand = np.random.uniform(0,1, size=len(y_val))\n",
    "y_rand"
   ]
  },
  {
   "cell_type": "code",
   "execution_count": 31,
   "metadata": {
    "_sphinx_cell_id": "cb4807c9-7f64-4fc3-8921-69b7e58c04a7"
   },
   "outputs": [
    {
     "data": {
      "text/plain": [
       "np.float64(0.5017743080198722)"
      ]
     },
     "execution_count": 31,
     "metadata": {},
     "output_type": "execute_result"
    }
   ],
   "source": [
    "((y_rand >= 0.5) == y_val).mean()"
   ]
  },
  {
   "cell_type": "code",
   "execution_count": 32,
   "metadata": {
    "_sphinx_cell_id": "d9167f36-951d-4c6c-aff9-bba6284880df"
   },
   "outputs": [
    {
     "data": {
      "text/html": [
       "<div>\n",
       "<style scoped>\n",
       "    .dataframe tbody tr th:only-of-type {\n",
       "        vertical-align: middle;\n",
       "    }\n",
       "\n",
       "    .dataframe tbody tr th {\n",
       "        vertical-align: top;\n",
       "    }\n",
       "\n",
       "    .dataframe thead th {\n",
       "        text-align: right;\n",
       "    }\n",
       "</style>\n",
       "<table border=\"1\" class=\"dataframe\">\n",
       "  <thead>\n",
       "    <tr style=\"text-align: right;\">\n",
       "      <th></th>\n",
       "      <th>threshold</th>\n",
       "      <th>tp</th>\n",
       "      <th>tn</th>\n",
       "      <th>fp</th>\n",
       "      <th>fn</th>\n",
       "      <th>tpr</th>\n",
       "      <th>fpr</th>\n",
       "    </tr>\n",
       "  </thead>\n",
       "  <tbody>\n",
       "    <tr>\n",
       "      <th>0</th>\n",
       "      <td>0.0</td>\n",
       "      <td>386</td>\n",
       "      <td>0</td>\n",
       "      <td>1023</td>\n",
       "      <td>0</td>\n",
       "      <td>1.000000</td>\n",
       "      <td>1.000000</td>\n",
       "    </tr>\n",
       "    <tr>\n",
       "      <th>10</th>\n",
       "      <td>0.1</td>\n",
       "      <td>347</td>\n",
       "      <td>100</td>\n",
       "      <td>923</td>\n",
       "      <td>39</td>\n",
       "      <td>0.898964</td>\n",
       "      <td>0.902248</td>\n",
       "    </tr>\n",
       "    <tr>\n",
       "      <th>20</th>\n",
       "      <td>0.2</td>\n",
       "      <td>307</td>\n",
       "      <td>201</td>\n",
       "      <td>822</td>\n",
       "      <td>79</td>\n",
       "      <td>0.795337</td>\n",
       "      <td>0.803519</td>\n",
       "    </tr>\n",
       "    <tr>\n",
       "      <th>30</th>\n",
       "      <td>0.3</td>\n",
       "      <td>276</td>\n",
       "      <td>299</td>\n",
       "      <td>724</td>\n",
       "      <td>110</td>\n",
       "      <td>0.715026</td>\n",
       "      <td>0.707722</td>\n",
       "    </tr>\n",
       "    <tr>\n",
       "      <th>40</th>\n",
       "      <td>0.4</td>\n",
       "      <td>237</td>\n",
       "      <td>399</td>\n",
       "      <td>624</td>\n",
       "      <td>149</td>\n",
       "      <td>0.613990</td>\n",
       "      <td>0.609971</td>\n",
       "    </tr>\n",
       "    <tr>\n",
       "      <th>50</th>\n",
       "      <td>0.5</td>\n",
       "      <td>202</td>\n",
       "      <td>505</td>\n",
       "      <td>518</td>\n",
       "      <td>184</td>\n",
       "      <td>0.523316</td>\n",
       "      <td>0.506354</td>\n",
       "    </tr>\n",
       "    <tr>\n",
       "      <th>60</th>\n",
       "      <td>0.6</td>\n",
       "      <td>161</td>\n",
       "      <td>614</td>\n",
       "      <td>409</td>\n",
       "      <td>225</td>\n",
       "      <td>0.417098</td>\n",
       "      <td>0.399804</td>\n",
       "    </tr>\n",
       "    <tr>\n",
       "      <th>70</th>\n",
       "      <td>0.7</td>\n",
       "      <td>121</td>\n",
       "      <td>721</td>\n",
       "      <td>302</td>\n",
       "      <td>265</td>\n",
       "      <td>0.313472</td>\n",
       "      <td>0.295210</td>\n",
       "    </tr>\n",
       "    <tr>\n",
       "      <th>80</th>\n",
       "      <td>0.8</td>\n",
       "      <td>78</td>\n",
       "      <td>817</td>\n",
       "      <td>206</td>\n",
       "      <td>308</td>\n",
       "      <td>0.202073</td>\n",
       "      <td>0.201369</td>\n",
       "    </tr>\n",
       "    <tr>\n",
       "      <th>90</th>\n",
       "      <td>0.9</td>\n",
       "      <td>40</td>\n",
       "      <td>922</td>\n",
       "      <td>101</td>\n",
       "      <td>346</td>\n",
       "      <td>0.103627</td>\n",
       "      <td>0.098729</td>\n",
       "    </tr>\n",
       "    <tr>\n",
       "      <th>100</th>\n",
       "      <td>1.0</td>\n",
       "      <td>0</td>\n",
       "      <td>1023</td>\n",
       "      <td>0</td>\n",
       "      <td>386</td>\n",
       "      <td>0.000000</td>\n",
       "      <td>0.000000</td>\n",
       "    </tr>\n",
       "  </tbody>\n",
       "</table>\n",
       "</div>"
      ],
      "text/plain": [
       "     threshold   tp    tn    fp   fn       tpr       fpr\n",
       "0          0.0  386     0  1023    0  1.000000  1.000000\n",
       "10         0.1  347   100   923   39  0.898964  0.902248\n",
       "20         0.2  307   201   822   79  0.795337  0.803519\n",
       "30         0.3  276   299   724  110  0.715026  0.707722\n",
       "40         0.4  237   399   624  149  0.613990  0.609971\n",
       "50         0.5  202   505   518  184  0.523316  0.506354\n",
       "60         0.6  161   614   409  225  0.417098  0.399804\n",
       "70         0.7  121   721   302  265  0.313472  0.295210\n",
       "80         0.8   78   817   206  308  0.202073  0.201369\n",
       "90         0.9   40   922   101  346  0.103627  0.098729\n",
       "100        1.0    0  1023     0  386  0.000000  0.000000"
      ]
     },
     "execution_count": 32,
     "metadata": {},
     "output_type": "execute_result"
    }
   ],
   "source": [
    "df_rand_scores = tpr_fpr_dataframe(y_val,y_rand)\n",
    "df_rand_scores[::10]"
   ]
  },
  {
   "cell_type": "code",
   "execution_count": 33,
   "metadata": {
    "_sphinx_cell_id": "d874eba0-0609-40b9-bd8f-1807e6d4e3df"
   },
   "outputs": [
    {
     "data": {
      "image/png": "[encoded data removed]",
      "text/plain": [
       "<Figure size 640x480 with 1 Axes>"
      ]
     },
     "metadata": {},
     "output_type": "display_data"
    }
   ],
   "source": [
    "#plot scores\n",
    "plt.plot(df_rand_scores.threshold, df_rand_scores.tpr, label='tpr')\n",
    "plt.plot(df_rand_scores.threshold, df_rand_scores.fpr, label='fpr')\n",
    "plt.legend()\n",
    "# add a label to the x-axis\n",
    "plt.xlabel('Threshold')\n",
    "plt.ylabel('Score')\n",
    "plt.show()"
   ]
  },
  {
   "cell_type": "markdown",
   "metadata": {
    "_sphinx_cell_id": "62f22fe2-5d6d-4d34-aca9-76f9620616a4"
   },
   "source": [
    "#### Interpretation\n",
    "Threshold = 0.5 means the model will classify a person as churned if the probability of the customer being churned is greater than 50%. This means the model will correctly recall 50% of churned customers as churned, but also misclassify 50% of not churned customers as churned."
   ]
  },
  {
   "cell_type": "markdown",
   "metadata": {
    "_sphinx_cell_id": "0c30c640-1502-402e-ad7a-d45bc9c7a428"
   },
   "source": [
    "### Ideal Model\n",
    "model that correctly classifies every customer. The ideal model orders the customers from lowest to highest probability and sets a correct threshold between non-churning and churning customers.\n",
    "This kind of model usually doesn't exist but helps to benchmark."
   ]
  },
  {
   "cell_type": "code",
   "execution_count": 34,
   "metadata": {
    "_sphinx_cell_id": "3945745f-c248-443e-933c-9cbd78d9c248"
   },
   "outputs": [
    {
     "data": {
      "text/plain": [
       "(np.int64(1023), np.int64(386))"
      ]
     },
     "execution_count": 34,
     "metadata": {},
     "output_type": "execute_result"
    }
   ],
   "source": [
    "# count positive and negative examples\n",
    "num_neg = (y_val == 0).sum()\n",
    "num_pos = (y_val == 1).sum()\n",
    "\n",
    "num_neg, num_pos"
   ]
  },
  {
   "cell_type": "code",
   "execution_count": 35,
   "metadata": {
    "_sphinx_cell_id": "32fa7e6b-f370-48d0-94ab-c4c1ba898097"
   },
   "outputs": [
    {
     "data": {
      "text/plain": [
       "array([0, 0, 0, ..., 1, 1, 1], shape=(1409,))"
      ]
     },
     "execution_count": 35,
     "metadata": {},
     "output_type": "execute_result"
    }
   ],
   "source": [
    "# create an array that first containts 1023 zeros and then 386 ones.\n",
    "y_ideal = np.repeat([0,1], [num_neg, num_pos])\n",
    "y_ideal"
   ]
  },
  {
   "cell_type": "code",
   "execution_count": 36,
   "metadata": {
    "_sphinx_cell_id": "35c0cd6a-b878-47a0-86ce-3faa4c42211a"
   },
   "outputs": [
    {
     "data": {
      "text/plain": [
       "array([0.00000000e+00, 7.10227273e-04, 1.42045455e-03, ...,\n",
       "       9.98579545e-01, 9.99289773e-01, 1.00000000e+00], shape=(1409,))"
      ]
     },
     "execution_count": 36,
     "metadata": {},
     "output_type": "execute_result"
    }
   ],
   "source": [
    "y_ideal_pred = np.linspace(0,1,len(y_val))\n",
    "y_ideal_pred"
   ]
  },
  {
   "cell_type": "code",
   "execution_count": 37,
   "metadata": {
    "_sphinx_cell_id": "407a8306-5c19-4069-aae7-0970ffbf47b2"
   },
   "outputs": [
    {
     "data": {
      "text/plain": [
       "np.float64(0.7260468417317246)"
      ]
     },
     "execution_count": 37,
     "metadata": {},
     "output_type": "execute_result"
    }
   ],
   "source": [
    "# this is the correct threshold for the ideal model\n",
    "1-y_val.mean()"
   ]
  },
  {
   "cell_type": "code",
   "execution_count": 38,
   "metadata": {
    "_sphinx_cell_id": "23ade492-890a-4192-9be1-e2977def7b91"
   },
   "outputs": [
    {
     "data": {
      "text/plain": [
       "np.float64(1.0)"
      ]
     },
     "execution_count": 38,
     "metadata": {},
     "output_type": "execute_result"
    }
   ],
   "source": [
    "((y_ideal_pred>=0.726)==y_ideal).mean()"
   ]
  },
  {
   "cell_type": "code",
   "execution_count": 39,
   "metadata": {
    "_sphinx_cell_id": "af955e9f-5308-46a5-9271-4a7757556bdb"
   },
   "outputs": [
    {
     "data": {
      "text/html": [
       "<div>\n",
       "<style scoped>\n",
       "    .dataframe tbody tr th:only-of-type {\n",
       "        vertical-align: middle;\n",
       "    }\n",
       "\n",
       "    .dataframe tbody tr th {\n",
       "        vertical-align: top;\n",
       "    }\n",
       "\n",
       "    .dataframe thead th {\n",
       "        text-align: right;\n",
       "    }\n",
       "</style>\n",
       "<table border=\"1\" class=\"dataframe\">\n",
       "  <thead>\n",
       "    <tr style=\"text-align: right;\">\n",
       "      <th></th>\n",
       "      <th>threshold</th>\n",
       "      <th>tp</th>\n",
       "      <th>tn</th>\n",
       "      <th>fp</th>\n",
       "      <th>fn</th>\n",
       "      <th>tpr</th>\n",
       "      <th>fpr</th>\n",
       "    </tr>\n",
       "  </thead>\n",
       "  <tbody>\n",
       "    <tr>\n",
       "      <th>0</th>\n",
       "      <td>0.0</td>\n",
       "      <td>386</td>\n",
       "      <td>0</td>\n",
       "      <td>1023</td>\n",
       "      <td>0</td>\n",
       "      <td>1.000000</td>\n",
       "      <td>1.000000</td>\n",
       "    </tr>\n",
       "    <tr>\n",
       "      <th>10</th>\n",
       "      <td>0.1</td>\n",
       "      <td>386</td>\n",
       "      <td>141</td>\n",
       "      <td>882</td>\n",
       "      <td>0</td>\n",
       "      <td>1.000000</td>\n",
       "      <td>0.862170</td>\n",
       "    </tr>\n",
       "    <tr>\n",
       "      <th>20</th>\n",
       "      <td>0.2</td>\n",
       "      <td>386</td>\n",
       "      <td>282</td>\n",
       "      <td>741</td>\n",
       "      <td>0</td>\n",
       "      <td>1.000000</td>\n",
       "      <td>0.724340</td>\n",
       "    </tr>\n",
       "    <tr>\n",
       "      <th>30</th>\n",
       "      <td>0.3</td>\n",
       "      <td>386</td>\n",
       "      <td>423</td>\n",
       "      <td>600</td>\n",
       "      <td>0</td>\n",
       "      <td>1.000000</td>\n",
       "      <td>0.586510</td>\n",
       "    </tr>\n",
       "    <tr>\n",
       "      <th>40</th>\n",
       "      <td>0.4</td>\n",
       "      <td>386</td>\n",
       "      <td>564</td>\n",
       "      <td>459</td>\n",
       "      <td>0</td>\n",
       "      <td>1.000000</td>\n",
       "      <td>0.448680</td>\n",
       "    </tr>\n",
       "    <tr>\n",
       "      <th>50</th>\n",
       "      <td>0.5</td>\n",
       "      <td>386</td>\n",
       "      <td>704</td>\n",
       "      <td>319</td>\n",
       "      <td>0</td>\n",
       "      <td>1.000000</td>\n",
       "      <td>0.311828</td>\n",
       "    </tr>\n",
       "    <tr>\n",
       "      <th>60</th>\n",
       "      <td>0.6</td>\n",
       "      <td>386</td>\n",
       "      <td>845</td>\n",
       "      <td>178</td>\n",
       "      <td>0</td>\n",
       "      <td>1.000000</td>\n",
       "      <td>0.173998</td>\n",
       "    </tr>\n",
       "    <tr>\n",
       "      <th>70</th>\n",
       "      <td>0.7</td>\n",
       "      <td>386</td>\n",
       "      <td>986</td>\n",
       "      <td>37</td>\n",
       "      <td>0</td>\n",
       "      <td>1.000000</td>\n",
       "      <td>0.036168</td>\n",
       "    </tr>\n",
       "    <tr>\n",
       "      <th>80</th>\n",
       "      <td>0.8</td>\n",
       "      <td>282</td>\n",
       "      <td>1023</td>\n",
       "      <td>0</td>\n",
       "      <td>104</td>\n",
       "      <td>0.730570</td>\n",
       "      <td>0.000000</td>\n",
       "    </tr>\n",
       "    <tr>\n",
       "      <th>90</th>\n",
       "      <td>0.9</td>\n",
       "      <td>141</td>\n",
       "      <td>1023</td>\n",
       "      <td>0</td>\n",
       "      <td>245</td>\n",
       "      <td>0.365285</td>\n",
       "      <td>0.000000</td>\n",
       "    </tr>\n",
       "    <tr>\n",
       "      <th>100</th>\n",
       "      <td>1.0</td>\n",
       "      <td>1</td>\n",
       "      <td>1023</td>\n",
       "      <td>0</td>\n",
       "      <td>385</td>\n",
       "      <td>0.002591</td>\n",
       "      <td>0.000000</td>\n",
       "    </tr>\n",
       "  </tbody>\n",
       "</table>\n",
       "</div>"
      ],
      "text/plain": [
       "     threshold   tp    tn    fp   fn       tpr       fpr\n",
       "0          0.0  386     0  1023    0  1.000000  1.000000\n",
       "10         0.1  386   141   882    0  1.000000  0.862170\n",
       "20         0.2  386   282   741    0  1.000000  0.724340\n",
       "30         0.3  386   423   600    0  1.000000  0.586510\n",
       "40         0.4  386   564   459    0  1.000000  0.448680\n",
       "50         0.5  386   704   319    0  1.000000  0.311828\n",
       "60         0.6  386   845   178    0  1.000000  0.173998\n",
       "70         0.7  386   986    37    0  1.000000  0.036168\n",
       "80         0.8  282  1023     0  104  0.730570  0.000000\n",
       "90         0.9  141  1023     0  245  0.365285  0.000000\n",
       "100        1.0    1  1023     0  385  0.002591  0.000000"
      ]
     },
     "execution_count": 39,
     "metadata": {},
     "output_type": "execute_result"
    }
   ],
   "source": [
    "df_ideal = tpr_fpr_dataframe(y_ideal,y_ideal_pred)\n",
    "df_ideal[::10]"
   ]
  },
  {
   "cell_type": "code",
   "execution_count": 40,
   "metadata": {
    "_sphinx_cell_id": "52b22033-8afa-458e-a9ce-4650f2c4128c"
   },
   "outputs": [
    {
     "data": {
      "image/png": "[encoded data removed]",
      "text/plain": [
       "<Figure size 640x480 with 1 Axes>"
      ]
     },
     "metadata": {},
     "output_type": "display_data"
    }
   ],
   "source": [
    "#plot scores\n",
    "plt.plot(df_ideal.threshold, df_ideal.tpr, label='tpr')\n",
    "plt.plot(df_ideal.threshold, df_ideal.fpr, label='fpr')\n",
    "plt.legend()\n",
    "# add a label to the x-axis\n",
    "plt.xlabel('Threshold')\n",
    "plt.ylabel('Score')\n",
    "plt.show()"
   ]
  },
  {
   "cell_type": "code",
   "execution_count": 41,
   "metadata": {
    "_sphinx_cell_id": "10e196bb-014a-4c80-8107-0af7fc9ad640"
   },
   "outputs": [],
   "source": [
    "# Recall in this model is very good up until threshold 72, but the false positive rate is still \n",
    "# not perfect until threshold 72."
   ]
  },
  {
   "cell_type": "markdown",
   "metadata": {
    "_sphinx_cell_id": "ac38de41-17e7-44af-8088-af088821331c"
   },
   "source": [
    "### Putting all benchmarks together"
   ]
  },
  {
   "cell_type": "code",
   "execution_count": 42,
   "id": "2a29c340",
   "metadata": {
    "_sphinx_cell_id": "411e552f-4c6f-4ef0-ae85-7051f5a9fba8"
   },
   "outputs": [
    {
     "data": {
      "image/png": "[encoded data removed]",
      "text/plain": [
       "<Figure size 640x480 with 1 Axes>"
      ]
     },
     "metadata": {},
     "output_type": "display_data"
    }
   ],
   "source": [
    "#plot scores\n",
    "plt.plot(df_ideal.threshold, df_ideal.tpr, label='tpr')\n",
    "plt.plot(df_ideal.threshold, df_ideal.fpr, label='fpr')\n",
    "\n",
    "plt.plot(df_rand_scores.threshold, df_rand_scores.tpr, label='tpr')\n",
    "plt.plot(df_rand_scores.threshold, df_rand_scores.fpr, label='fpr')\n",
    "\n",
    "plt.plot(df_scores.threshold, df_scores.tpr, label='tpr')\n",
    "plt.plot(df_scores.threshold, df_scores.fpr, label='fpr')\n",
    "plt.legend()\n",
    "# add a label to the x-axis\n",
    "plt.xlabel('Threshold')\n",
    "plt.ylabel('Score')\n",
    "plt.show()"
   ]
  },
  {
   "cell_type": "code",
   "execution_count": 43,
   "metadata": {
    "_sphinx_cell_id": "6d93b878-1be6-4c33-a8c2-88817c163949"
   },
   "outputs": [
    {
     "data": {
      "image/png": "[encoded data removed]",
      "text/plain": [
       "<Figure size 600x600 with 1 Axes>"
      ]
     },
     "metadata": {},
     "output_type": "display_data"
    }
   ],
   "source": [
    "# Plot FPR vs TPR\n",
    "plt.figure(figsize=(6,6))\n",
    "plt.plot(df_ideal.fpr, df_ideal.tpr, label='ideal')\n",
    "plt.plot(df_rand_scores.fpr, df_rand_scores.tpr, label='random')\n",
    "plt.plot(df_scores.fpr, df_scores.tpr, label='model')\n",
    "plt.xlabel('FPR')\n",
    "plt.ylabel('TPR')\n",
    "plt.legend()\n",
    "plt.show()\n"
   ]
  },
  {
   "cell_type": "markdown",
   "id": "d16fb371",
   "metadata": {
    "_sphinx_cell_id": "8e166b2b-3d6b-421f-b5ec-85e91377b28a"
   },
   "source": [
    " Our ideal is FPR = 0 and TPR = 1. \n",
    "The lower the threshold, the higher the TPR but also the FPR. "
   ]
  },
  {
   "cell_type": "markdown",
   "id": "06347e66",
   "metadata": {
    "_sphinx_cell_id": "278383a0-06f2-4233-974c-aa1aa15a96d5"
   },
   "source": [
    "# 4.5 Plotting ROC-Curves with scikit-learn"
   ]
  },
  {
   "cell_type": "code",
   "execution_count": 44,
   "metadata": {
    "_sphinx_cell_id": "1d5e9442-1b60-475c-a4c4-763d8ecdb788"
   },
   "outputs": [],
   "source": [
    "from sklearn.metrics import roc_curve"
   ]
  },
  {
   "cell_type": "code",
   "execution_count": 45,
   "metadata": {
    "_sphinx_cell_id": "996bb831-1da6-4064-abf5-ec10e5695887"
   },
   "outputs": [],
   "source": [
    "fpr, tpr, thresholds = roc_curve(y_val, y_pred)"
   ]
  },
  {
   "cell_type": "code",
   "execution_count": 46,
   "metadata": {
    "_sphinx_cell_id": "ff1c2220-9e94-4549-a06f-9d7728372311"
   },
   "outputs": [
    {
     "data": {
      "image/png": "[encoded data removed]",
      "text/plain": [
       "<Figure size 600x600 with 1 Axes>"
      ]
     },
     "metadata": {},
     "output_type": "display_data"
    }
   ],
   "source": [
    "# Plot FPR vs TPR\n",
    "plt.figure(figsize=(6,6))\n",
    "plt.plot(fpr, tpr ,label='model')\n",
    "plt.plot(df_rand_scores.fpr, df_rand_scores.tpr, label='random', linestyle='--')\n",
    "plt.xlabel('FPR')\n",
    "plt.ylabel('TPR')\n",
    "plt.legend()\n",
    "plt.show()\n"
   ]
  },
  {
   "cell_type": "markdown",
   "id": "2aff7d9d",
   "metadata": {
    "_sphinx_cell_id": "80ac3c28-0688-4311-a42d-4e1688bd30b5"
   },
   "source": [
    "# 4.6 ROC AUC\n",
    "Area under (RO) curve - we want this to be as close to 1 as possible. Measure of the quality of the model."
   ]
  },
  {
   "cell_type": "code",
   "execution_count": 47,
   "metadata": {
    "_sphinx_cell_id": "c3c85297-91d6-482e-8234-cde47ab36a04"
   },
   "outputs": [],
   "source": [
    "from sklearn.metrics import auc # this is for any curve, not just ROC"
   ]
  },
  {
   "cell_type": "code",
   "execution_count": 48,
   "metadata": {
    "_sphinx_cell_id": "baab06c3-177f-427a-a972-2f55ecd75b05"
   },
   "outputs": [
    {
     "data": {
      "text/plain": [
       "0.8438150517374986"
      ]
     },
     "execution_count": 48,
     "metadata": {},
     "output_type": "execute_result"
    }
   ],
   "source": [
    "# this one is more accurate because it considers more thresholds\n",
    "auc(fpr, tpr)"
   ]
  },
  {
   "cell_type": "code",
   "execution_count": 49,
   "metadata": {
    "_sphinx_cell_id": "f7d1a69a-5eb6-45d5-9cdd-88fe853fccce"
   },
   "outputs": [
    {
     "data": {
      "text/plain": [
       "0.8438872259280081"
      ]
     },
     "execution_count": 49,
     "metadata": {},
     "output_type": "execute_result"
    }
   ],
   "source": [
    "# our manual fpr and tpr\n",
    "auc(df_scores.fpr, df_scores.tpr)"
   ]
  },
  {
   "cell_type": "code",
   "execution_count": 50,
   "metadata": {
    "_sphinx_cell_id": "0c0bd9ca-f840-4a85-84de-2127107a7ac8"
   },
   "outputs": [
    {
     "data": {
      "text/plain": [
       "0.9999430203759136"
      ]
     },
     "execution_count": 50,
     "metadata": {},
     "output_type": "execute_result"
    }
   ],
   "source": [
    "# our manual fpr and tpr\n",
    "auc(df_ideal.fpr, df_ideal.tpr)"
   ]
  },
  {
   "cell_type": "code",
   "execution_count": 51,
   "metadata": {
    "_sphinx_cell_id": "6d4539db-c2ab-4a98-bdc7-b793931792ca"
   },
   "outputs": [
    {
     "data": {
      "text/plain": [
       "0.8438150517374986"
      ]
     },
     "execution_count": 51,
     "metadata": {},
     "output_type": "execute_result"
    }
   ],
   "source": [
    "# shortcut\n",
    "from sklearn.metrics import roc_auc_score\n",
    "roc_auc_score(y_val, y_pred)"
   ]
  },
  {
   "cell_type": "code",
   "execution_count": 52,
   "metadata": {
    "_sphinx_cell_id": "b78363c3-47a5-48de-87af-498876f10a76"
   },
   "outputs": [],
   "source": [
    "# AUC is the probability that a randomly selected positive example \n",
    "# has a higher score than a randomly selected negative example."
   ]
  },
  {
   "cell_type": "code",
   "execution_count": 53,
   "metadata": {
    "_sphinx_cell_id": "ee14273c-6d99-4b3d-88f8-ffc87b0631e9"
   },
   "outputs": [],
   "source": [
    "neg = y_pred[y_val == 0]\n",
    "pos = y_pred[y_val == 1]"
   ]
  },
  {
   "cell_type": "code",
   "execution_count": 54,
   "metadata": {
    "_sphinx_cell_id": "ee8b9a4d-e1c9-4b52-8858-d4edd1d717f4"
   },
   "outputs": [],
   "source": [
    "import random\n"
   ]
  },
  {
   "cell_type": "code",
   "execution_count": 55,
   "metadata": {
    "_sphinx_cell_id": "10111d43-8eed-48e9-9162-2b6976ce5606"
   },
   "outputs": [],
   "source": [
    "n = 1000000\n",
    "success = 0\n",
    "\n",
    "for i in range(n):\n",
    "    # select random positive and negative examples and compare their scores\n",
    "    pos_ind  = random.randint(0,len(pos)-1)\n",
    "    neg_ind  = random.randint(0,len(neg)-1)\n",
    "    if pos[pos_ind] > neg[neg_ind]:\n",
    "        success += 1"
   ]
  },
  {
   "cell_type": "code",
   "execution_count": 56,
   "metadata": {
    "_sphinx_cell_id": "1fb72c6f-f5b1-4c7b-8fc6-85aeeff06fda"
   },
   "outputs": [
    {
     "data": {
      "text/plain": [
       "0.84355"
      ]
     },
     "execution_count": 56,
     "metadata": {},
     "output_type": "execute_result"
    }
   ],
   "source": [
    "# this is close to the AUC value! How well can our model order customers?\n",
    "success/n"
   ]
  },
  {
   "cell_type": "code",
   "execution_count": 57,
   "metadata": {
    "_sphinx_cell_id": "04ebecd8-a02f-4005-aca1-39545282accd"
   },
   "outputs": [],
   "source": [
    "# instead of doing the above loop, we can do the following:\n",
    "# select 10000 indexes from the positive and negative examples at random\n",
    "n=10000\n",
    "pos_ind = np.random.randint(0, len(pos), size=n)\n",
    "neg_ind = np.random.randint(0, len(neg), size=n)"
   ]
  },
  {
   "cell_type": "code",
   "execution_count": 58,
   "metadata": {
    "_sphinx_cell_id": "6a14f19b-59b5-4194-bd07-1889a21b7884"
   },
   "outputs": [
    {
     "data": {
      "text/plain": [
       "array([False,  True,  True, ...,  True,  True,  True], shape=(10000,))"
      ]
     },
     "execution_count": 58,
     "metadata": {},
     "output_type": "execute_result"
    }
   ],
   "source": [
    "pos[pos_ind] > neg[neg_ind]"
   ]
  },
  {
   "cell_type": "code",
   "execution_count": 59,
   "metadata": {
    "_sphinx_cell_id": "7c4eaee2-6014-4a3b-bd5b-95ae4b5d2f84"
   },
   "outputs": [
    {
     "data": {
      "text/plain": [
       "np.float64(0.835)"
      ]
     },
     "execution_count": 59,
     "metadata": {},
     "output_type": "execute_result"
    }
   ],
   "source": [
    "(pos[pos_ind] > neg[neg_ind]).mean()"
   ]
  },
  {
   "cell_type": "code",
   "execution_count": 60,
   "metadata": {
    "_sphinx_cell_id": "d0328071-b97c-432e-8c4f-d3226fc92327"
   },
   "outputs": [
    {
     "data": {
      "text/plain": [
       "np.float64(0.84646)"
      ]
     },
     "execution_count": 60,
     "metadata": {},
     "output_type": "execute_result"
    }
   ],
   "source": [
    "n = 50000\n",
    "np.random.seed(1)\n",
    "\n",
    "pos_ind = np.random.randint(0, len(pos), size=n)\n",
    "neg_ind = np.random.randint(0, len(neg), size=n)\n",
    "\n",
    "(pos[pos_ind] > neg[neg_ind]).mean()"
   ]
  },
  {
   "cell_type": "markdown",
   "id": "93028edd",
   "metadata": {
    "_sphinx_cell_id": "6fea4726-8e7c-4a50-b1bf-78d5628a603d"
   },
   "source": [
    "# Cross-Validation and Parameter Tuning\n",
    "- evaluating the same model on different subsets of data\n",
    "- getting the average prediction and the spread within predictions"
   ]
  },
  {
   "cell_type": "code",
   "execution_count": 99,
   "metadata": {
    "_sphinx_cell_id": "5fa5da32-9d79-4d2b-801a-7adc70d29e26"
   },
   "outputs": [],
   "source": [
    "# lower C values represent higher regularization\n",
    "# regularization is used to prevent overfitting\n",
    "def train(df_train, y_train, C=1.0, random_state=1):\n",
    "    \"\"\"\n",
    "    train a model on the given data\n",
    "    \"\"\"\n",
    "    dicts = df_train[categorical + numerical].to_dict(orient='records')\n",
    "\n",
    "    dv = DictVectorizer(sparse=False)\n",
    "    X_train = dv.fit_transform(dicts)\n",
    "\n",
    "    model = LogisticRegression(C=C, max_iter=1000)\n",
    "    model.fit(X_train, y_train)\n",
    "\n",
    "    return dv, model\n"
   ]
  },
  {
   "cell_type": "code",
   "execution_count": 98,
   "metadata": {
    "_sphinx_cell_id": "c9742f0c-8e23-4b9d-b72a-7f97e759fc01"
   },
   "outputs": [
    {
     "name": "stderr",
     "output_type": "stream",
     "text": [
      "/Users/juliastache/Desktop/Courses/ml-zoomcamp/ml-zoomcamp/lib/python3.13/site-packages/sklearn/linear_model/_logistic.py:473: ConvergenceWarning: lbfgs failed to converge after 1000 iteration(s) (status=1):\n",
      "STOP: TOTAL NO. OF ITERATIONS REACHED LIMIT\n",
      "\n",
      "Increase the number of iterations to improve the convergence (max_iter=1000).\n",
      "You might also want to scale the data as shown in:\n",
      "    https://scikit-learn.org/stable/modules/preprocessing.html\n",
      "Please also refer to the documentation for alternative solver options:\n",
      "    https://scikit-learn.org/stable/modules/linear_model.html#logistic-regression\n",
      "  n_iter_i = _check_optimize_result(\n"
     ]
    }
   ],
   "source": [
    "dv, model = train(df_train, y_train)"
   ]
  },
  {
   "cell_type": "code",
   "execution_count": 63,
   "metadata": {
    "_sphinx_cell_id": "bb5c579a-be3c-4d71-b948-37488da78f25"
   },
   "outputs": [],
   "source": [
    "def predict(df, dv, model):\n",
    "    dicts = df[categorical + numerical].to_dict(orient='records')\n",
    "\n",
    "    X = dv.transform(dicts) # do not fit again! this was done in training\n",
    "    y_pred = model.predict_proba(X)[:,1]\n",
    "\n",
    "    return y_pred\n"
   ]
  },
  {
   "cell_type": "code",
   "execution_count": 64,
   "metadata": {
    "_sphinx_cell_id": "7774b038-6577-4655-8784-dd0ad119c166"
   },
   "outputs": [],
   "source": [
    "y_pred = (df_val, dv, model)"
   ]
  },
  {
   "cell_type": "code",
   "execution_count": 65,
   "metadata": {
    "_sphinx_cell_id": "e0205f91-a30b-4db3-86e1-faee8208c9c0"
   },
   "outputs": [],
   "source": [
    "# K-Fold Cross Validation\n",
    "from sklearn.model_selection import KFold"
   ]
  },
  {
   "cell_type": "code",
   "execution_count": 66,
   "metadata": {
    "_sphinx_cell_id": "27d7c9e6-ed0f-4f66-b0f9-f7138e8a9662"
   },
   "outputs": [],
   "source": [
    "kfold = KFold(n_splits=10, shuffle=True, random_state=1) "
   ]
  },
  {
   "cell_type": "code",
   "execution_count": 67,
   "metadata": {
    "_sphinx_cell_id": "f9d1629c-0169-4229-9ea9-2628032aca0e"
   },
   "outputs": [
    {
     "name": "stdout",
     "output_type": "stream",
     "text": [
      "Requirement already satisfied: tqdm in /Users/juliastache/Desktop/Courses/ml-zoomcamp/ml-zoomcamp/lib/python3.13/site-packages (4.67.1)\n",
      "Note: you may need to restart the kernel to use updated packages.\n"
     ]
    }
   ],
   "source": [
    "%pip install tqdm"
   ]
  },
  {
   "cell_type": "code",
   "execution_count": 76,
   "metadata": {
    "_sphinx_cell_id": "807b6d6b-763b-415e-a31c-aaca8d997718"
   },
   "outputs": [],
   "source": [
    "from tqdm.auto import tqdm"
   ]
  },
  {
   "cell_type": "code",
   "execution_count": 104,
   "metadata": {
    "_sphinx_cell_id": "9be05e06-fb27-456e-99b0-ae286ccabe6f"
   },
   "outputs": [],
   "source": [
    "import warnings\n",
    "from sklearn.exceptions import ConvergenceWarning\n",
    "\n",
    "warnings.filterwarnings(\"ignore\", category=ConvergenceWarning)\n"
   ]
  },
  {
   "cell_type": "code",
   "execution_count": null,
   "metadata": {
    "_sphinx_cell_id": "5bc3f6bc-9954-4152-841b-d38d7190cb45"
   },
   "outputs": [
    {
     "name": "stderr",
     "output_type": "stream",
     "text": [
      " 14%|█▍        | 1/7 [00:00<00:04,  1.28it/s]"
     ]
    },
    {
     "name": "stdout",
     "output_type": "stream",
     "text": [
      "C=0.001 0.825.+-0.009\n"
     ]
    },
    {
     "name": "stderr",
     "output_type": "stream",
     "text": [
      " 29%|██▊       | 2/7 [00:02<00:05,  1.18s/it]"
     ]
    },
    {
     "name": "stdout",
     "output_type": "stream",
     "text": [
      "C=0.01 0.840.+-0.008\n"
     ]
    },
    {
     "name": "stderr",
     "output_type": "stream",
     "text": [
      " 43%|████▎     | 3/7 [00:03<00:05,  1.31s/it]"
     ]
    },
    {
     "name": "stdout",
     "output_type": "stream",
     "text": [
      "C=0.1 0.842.+-0.007\n"
     ]
    },
    {
     "name": "stderr",
     "output_type": "stream",
     "text": [
      " 57%|█████▋    | 4/7 [00:05<00:04,  1.35s/it]"
     ]
    },
    {
     "name": "stdout",
     "output_type": "stream",
     "text": [
      "C=0.5 0.842.+-0.007\n"
     ]
    },
    {
     "name": "stderr",
     "output_type": "stream",
     "text": [
      " 71%|███████▏  | 5/7 [00:06<00:02,  1.36s/it]"
     ]
    },
    {
     "name": "stdout",
     "output_type": "stream",
     "text": [
      "C=1 0.842.+-0.007\n"
     ]
    },
    {
     "name": "stderr",
     "output_type": "stream",
     "text": [
      " 86%|████████▌ | 6/7 [00:07<00:01,  1.37s/it]"
     ]
    },
    {
     "name": "stdout",
     "output_type": "stream",
     "text": [
      "C=5 0.842.+-0.007\n"
     ]
    },
    {
     "name": "stderr",
     "output_type": "stream",
     "text": [
      "100%|██████████| 7/7 [00:09<00:00,  1.33s/it]"
     ]
    },
    {
     "name": "stdout",
     "output_type": "stream",
     "text": [
      "C=10 0.842.+-0.007\n"
     ]
    },
    {
     "name": "stderr",
     "output_type": "stream",
     "text": [
      "\n"
     ]
    }
   ],
   "source": [
    "n_splits = 5\n",
    "\n",
    "\n",
    "# find the best regularization parameter\n",
    "for C in tqdm([0.001, 0.01, 0.1, 0.5, 1, 5, 10]):\n",
    "    scores = [] \n",
    "\n",
    "    kfold = KFold(n_splits=n_splits, shuffle=True, random_state=1)\n",
    "    # returns indexes for the training set and for the validation set - loop over the generator\n",
    "    for train_idx, val_idx in kfold.split(df_full_train):\n",
    "        df_train = df_full_train.iloc[train_idx]\n",
    "        df_val = df_full_train.iloc[val_idx]\n",
    "\n",
    "        y_train = df_train.churn.values\n",
    "        y_val = df_val.churn.values\n",
    "\n",
    "        dv, model = train(df_train, y_train, C=C)\n",
    "        y_pred = predict(df_val, dv, model)\n",
    "\n",
    "        auc = roc_auc_score(y_val, y_pred)\n",
    "        scores.append(auc)\n",
    "        \n",
    "    print('C=%s %.3f.+-%.3f' % (C, np.mean(scores), np.std(scores)))\n"
   ]
  },
  {
   "cell_type": "code",
   "execution_count": 115,
   "metadata": {
    "_sphinx_cell_id": "1bea5e6d-0280-4381-b9e5-26d7af88303b"
   },
   "outputs": [
    {
     "data": {
      "text/plain": [
       "0.8583057081261442"
      ]
     },
     "execution_count": 115,
     "metadata": {},
     "output_type": "execute_result"
    }
   ],
   "source": [
    "# train model on full training set\n",
    "dv, model = train(df_full_train, df_full_train.churn.values, C=1.0)\n",
    "y_pred = predict(df_test, dv, model)\n",
    "\n",
    "auc = roc_auc_score(y_test, y_pred)\n",
    "auc"
   ]
  },
  {
   "cell_type": "code",
   "execution_count": null,
   "metadata": {
    "_sphinx_cell_id": "ea0e2b55-92af-4261-973a-e8ab399b51e9"
   },
   "outputs": [],
   "source": []
  }
 ],
 "metadata": {
  "__sphinx_history__.9b5ba0a4-c6ad-4728-8506-a860504a0139": "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",
  "kernelspec": {
   "display_name": "ml-zoomcamp",
   "language": "python",
   "name": "python3"
  },
  "language_info": {
   "codemirror_mode": {
    "name": "ipython",
    "version": 3
   },
   "file_extension": ".py",
   "mimetype": "text/x-python",
   "name": "python",
   "nbconvert_exporter": "python",
   "pygments_lexer": "ipython3",
   "version": "3.13.2"
  }
 },
 "nbformat": 4,
 "nbformat_minor": 5
}
